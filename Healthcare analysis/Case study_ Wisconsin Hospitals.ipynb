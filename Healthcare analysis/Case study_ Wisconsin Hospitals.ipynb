{
 "cells": [
  {
   "cell_type": "code",
   "execution_count": 1,
   "id": "8ea38524",
   "metadata": {},
   "outputs": [],
   "source": [
    "import numpy as np\n",
    "import pandas as pd\n",
    "# import plotting libraries\n",
    "import matplotlib\n",
    "import matplotlib.pyplot as plt\n",
    "from pandas.plotting import scatter_matrix\n",
    "%matplotlib inline \n",
    "import seaborn as sns\n",
    "sns.set(style=\"white\", color_codes=True)\n",
    "sns.set(font_scale=1.5)"
   ]
  },
  {
   "cell_type": "code",
   "execution_count": 2,
   "id": "a743676a",
   "metadata": {},
   "outputs": [
    {
     "data": {
      "text/html": [
       "<div>\n",
       "<style scoped>\n",
       "    .dataframe tbody tr th:only-of-type {\n",
       "        vertical-align: middle;\n",
       "    }\n",
       "\n",
       "    .dataframe tbody tr th {\n",
       "        vertical-align: top;\n",
       "    }\n",
       "\n",
       "    .dataframe thead th {\n",
       "        text-align: right;\n",
       "    }\n",
       "</style>\n",
       "<table border=\"1\" class=\"dataframe\">\n",
       "  <thead>\n",
       "    <tr style=\"text-align: right;\">\n",
       "      <th></th>\n",
       "      <th>AGE</th>\n",
       "      <th>FEMALE</th>\n",
       "      <th>LOS</th>\n",
       "      <th>RACE</th>\n",
       "      <th>TOTCHG</th>\n",
       "      <th>APRDRG</th>\n",
       "    </tr>\n",
       "  </thead>\n",
       "  <tbody>\n",
       "    <tr>\n",
       "      <th>0</th>\n",
       "      <td>17</td>\n",
       "      <td>1</td>\n",
       "      <td>2</td>\n",
       "      <td>1.0</td>\n",
       "      <td>2660</td>\n",
       "      <td>560</td>\n",
       "    </tr>\n",
       "    <tr>\n",
       "      <th>1</th>\n",
       "      <td>17</td>\n",
       "      <td>0</td>\n",
       "      <td>2</td>\n",
       "      <td>1.0</td>\n",
       "      <td>1689</td>\n",
       "      <td>753</td>\n",
       "    </tr>\n",
       "    <tr>\n",
       "      <th>2</th>\n",
       "      <td>17</td>\n",
       "      <td>1</td>\n",
       "      <td>7</td>\n",
       "      <td>1.0</td>\n",
       "      <td>20060</td>\n",
       "      <td>930</td>\n",
       "    </tr>\n",
       "    <tr>\n",
       "      <th>3</th>\n",
       "      <td>17</td>\n",
       "      <td>1</td>\n",
       "      <td>1</td>\n",
       "      <td>1.0</td>\n",
       "      <td>736</td>\n",
       "      <td>758</td>\n",
       "    </tr>\n",
       "    <tr>\n",
       "      <th>4</th>\n",
       "      <td>17</td>\n",
       "      <td>1</td>\n",
       "      <td>1</td>\n",
       "      <td>1.0</td>\n",
       "      <td>1194</td>\n",
       "      <td>754</td>\n",
       "    </tr>\n",
       "  </tbody>\n",
       "</table>\n",
       "</div>"
      ],
      "text/plain": [
       "   AGE  FEMALE  LOS  RACE  TOTCHG  APRDRG\n",
       "0   17       1    2   1.0    2660     560\n",
       "1   17       0    2   1.0    1689     753\n",
       "2   17       1    7   1.0   20060     930\n",
       "3   17       1    1   1.0     736     758\n",
       "4   17       1    1   1.0    1194     754"
      ]
     },
     "execution_count": 2,
     "metadata": {},
     "output_type": "execute_result"
    }
   ],
   "source": [
    "df=pd.read_csv('HospitalCosts.csv')\n",
    "df.head(5)"
   ]
  },
  {
   "cell_type": "markdown",
   "id": "30035365",
   "metadata": {},
   "source": [
    "LOS = Length of Stay\\ TOTCHG = Hospital Dsicharge Cost\\ APRDRG = All Patient Refined Diagnosis Related Groups\\"
   ]
  },
  {
   "cell_type": "code",
   "execution_count": 3,
   "id": "d668d5d9",
   "metadata": {},
   "outputs": [
    {
     "name": "stdout",
     "output_type": "stream",
     "text": [
      "<class 'pandas.core.frame.DataFrame'>\n",
      "RangeIndex: 500 entries, 0 to 499\n",
      "Data columns (total 6 columns):\n",
      " #   Column  Non-Null Count  Dtype  \n",
      "---  ------  --------------  -----  \n",
      " 0   AGE     500 non-null    int64  \n",
      " 1   FEMALE  500 non-null    int64  \n",
      " 2   LOS     500 non-null    int64  \n",
      " 3   RACE    499 non-null    float64\n",
      " 4   TOTCHG  500 non-null    int64  \n",
      " 5   APRDRG  500 non-null    int64  \n",
      "dtypes: float64(1), int64(5)\n",
      "memory usage: 23.6 KB\n"
     ]
    }
   ],
   "source": [
    "df.info()"
   ]
  },
  {
   "cell_type": "markdown",
   "id": "7aa3a9e7",
   "metadata": {},
   "source": [
    "#### renaming columns 'female' as 'gender' (where female=1 and male=0) and TOTCHG as 'cost'"
   ]
  },
  {
   "cell_type": "code",
   "execution_count": 4,
   "id": "ef32bc7e",
   "metadata": {},
   "outputs": [
    {
     "data": {
      "text/html": [
       "<div>\n",
       "<style scoped>\n",
       "    .dataframe tbody tr th:only-of-type {\n",
       "        vertical-align: middle;\n",
       "    }\n",
       "\n",
       "    .dataframe tbody tr th {\n",
       "        vertical-align: top;\n",
       "    }\n",
       "\n",
       "    .dataframe thead th {\n",
       "        text-align: right;\n",
       "    }\n",
       "</style>\n",
       "<table border=\"1\" class=\"dataframe\">\n",
       "  <thead>\n",
       "    <tr style=\"text-align: right;\">\n",
       "      <th></th>\n",
       "      <th>AGE</th>\n",
       "      <th>GENDER</th>\n",
       "      <th>LOS</th>\n",
       "      <th>RACE</th>\n",
       "      <th>COST</th>\n",
       "      <th>APRDRG</th>\n",
       "    </tr>\n",
       "  </thead>\n",
       "  <tbody>\n",
       "    <tr>\n",
       "      <th>0</th>\n",
       "      <td>17</td>\n",
       "      <td>1</td>\n",
       "      <td>2</td>\n",
       "      <td>1.0</td>\n",
       "      <td>2660</td>\n",
       "      <td>560</td>\n",
       "    </tr>\n",
       "    <tr>\n",
       "      <th>1</th>\n",
       "      <td>17</td>\n",
       "      <td>0</td>\n",
       "      <td>2</td>\n",
       "      <td>1.0</td>\n",
       "      <td>1689</td>\n",
       "      <td>753</td>\n",
       "    </tr>\n",
       "    <tr>\n",
       "      <th>2</th>\n",
       "      <td>17</td>\n",
       "      <td>1</td>\n",
       "      <td>7</td>\n",
       "      <td>1.0</td>\n",
       "      <td>20060</td>\n",
       "      <td>930</td>\n",
       "    </tr>\n",
       "    <tr>\n",
       "      <th>3</th>\n",
       "      <td>17</td>\n",
       "      <td>1</td>\n",
       "      <td>1</td>\n",
       "      <td>1.0</td>\n",
       "      <td>736</td>\n",
       "      <td>758</td>\n",
       "    </tr>\n",
       "    <tr>\n",
       "      <th>4</th>\n",
       "      <td>17</td>\n",
       "      <td>1</td>\n",
       "      <td>1</td>\n",
       "      <td>1.0</td>\n",
       "      <td>1194</td>\n",
       "      <td>754</td>\n",
       "    </tr>\n",
       "  </tbody>\n",
       "</table>\n",
       "</div>"
      ],
      "text/plain": [
       "   AGE  GENDER  LOS  RACE   COST  APRDRG\n",
       "0   17       1    2   1.0   2660     560\n",
       "1   17       0    2   1.0   1689     753\n",
       "2   17       1    7   1.0  20060     930\n",
       "3   17       1    1   1.0    736     758\n",
       "4   17       1    1   1.0   1194     754"
      ]
     },
     "execution_count": 4,
     "metadata": {},
     "output_type": "execute_result"
    }
   ],
   "source": [
    "df.rename({\"FEMALE\": \"GENDER\",\"TOTCHG\":\"COST\"}, axis=1, inplace=True)\n",
    "df.head()"
   ]
  },
  {
   "cell_type": "markdown",
   "id": "6f2e1327",
   "metadata": {},
   "source": [
    "#### Sorting data by \"AGE\" in descending order"
   ]
  },
  {
   "cell_type": "code",
   "execution_count": 5,
   "id": "77090b9b",
   "metadata": {},
   "outputs": [
    {
     "data": {
      "text/html": [
       "<div>\n",
       "<style scoped>\n",
       "    .dataframe tbody tr th:only-of-type {\n",
       "        vertical-align: middle;\n",
       "    }\n",
       "\n",
       "    .dataframe tbody tr th {\n",
       "        vertical-align: top;\n",
       "    }\n",
       "\n",
       "    .dataframe thead th {\n",
       "        text-align: right;\n",
       "    }\n",
       "</style>\n",
       "<table border=\"1\" class=\"dataframe\">\n",
       "  <thead>\n",
       "    <tr style=\"text-align: right;\">\n",
       "      <th></th>\n",
       "      <th>AGE</th>\n",
       "      <th>GENDER</th>\n",
       "      <th>LOS</th>\n",
       "      <th>RACE</th>\n",
       "      <th>COST</th>\n",
       "      <th>APRDRG</th>\n",
       "    </tr>\n",
       "  </thead>\n",
       "  <tbody>\n",
       "    <tr>\n",
       "      <th>0</th>\n",
       "      <td>17</td>\n",
       "      <td>1</td>\n",
       "      <td>2</td>\n",
       "      <td>1.0</td>\n",
       "      <td>2660</td>\n",
       "      <td>560</td>\n",
       "    </tr>\n",
       "    <tr>\n",
       "      <th>2</th>\n",
       "      <td>17</td>\n",
       "      <td>1</td>\n",
       "      <td>7</td>\n",
       "      <td>1.0</td>\n",
       "      <td>20060</td>\n",
       "      <td>930</td>\n",
       "    </tr>\n",
       "    <tr>\n",
       "      <th>3</th>\n",
       "      <td>17</td>\n",
       "      <td>1</td>\n",
       "      <td>1</td>\n",
       "      <td>1.0</td>\n",
       "      <td>736</td>\n",
       "      <td>758</td>\n",
       "    </tr>\n",
       "    <tr>\n",
       "      <th>4</th>\n",
       "      <td>17</td>\n",
       "      <td>1</td>\n",
       "      <td>1</td>\n",
       "      <td>1.0</td>\n",
       "      <td>1194</td>\n",
       "      <td>754</td>\n",
       "    </tr>\n",
       "    <tr>\n",
       "      <th>6</th>\n",
       "      <td>17</td>\n",
       "      <td>1</td>\n",
       "      <td>4</td>\n",
       "      <td>1.0</td>\n",
       "      <td>2205</td>\n",
       "      <td>754</td>\n",
       "    </tr>\n",
       "    <tr>\n",
       "      <th>...</th>\n",
       "      <td>...</td>\n",
       "      <td>...</td>\n",
       "      <td>...</td>\n",
       "      <td>...</td>\n",
       "      <td>...</td>\n",
       "      <td>...</td>\n",
       "    </tr>\n",
       "    <tr>\n",
       "      <th>489</th>\n",
       "      <td>0</td>\n",
       "      <td>0</td>\n",
       "      <td>2</td>\n",
       "      <td>1.0</td>\n",
       "      <td>1264</td>\n",
       "      <td>640</td>\n",
       "    </tr>\n",
       "    <tr>\n",
       "      <th>490</th>\n",
       "      <td>0</td>\n",
       "      <td>0</td>\n",
       "      <td>2</td>\n",
       "      <td>1.0</td>\n",
       "      <td>1282</td>\n",
       "      <td>640</td>\n",
       "    </tr>\n",
       "    <tr>\n",
       "      <th>491</th>\n",
       "      <td>0</td>\n",
       "      <td>0</td>\n",
       "      <td>2</td>\n",
       "      <td>1.0</td>\n",
       "      <td>1393</td>\n",
       "      <td>640</td>\n",
       "    </tr>\n",
       "    <tr>\n",
       "      <th>493</th>\n",
       "      <td>0</td>\n",
       "      <td>0</td>\n",
       "      <td>2</td>\n",
       "      <td>1.0</td>\n",
       "      <td>1266</td>\n",
       "      <td>640</td>\n",
       "    </tr>\n",
       "    <tr>\n",
       "      <th>499</th>\n",
       "      <td>0</td>\n",
       "      <td>0</td>\n",
       "      <td>4</td>\n",
       "      <td>1.0</td>\n",
       "      <td>4931</td>\n",
       "      <td>640</td>\n",
       "    </tr>\n",
       "  </tbody>\n",
       "</table>\n",
       "<p>500 rows × 6 columns</p>\n",
       "</div>"
      ],
      "text/plain": [
       "     AGE  GENDER  LOS  RACE   COST  APRDRG\n",
       "0     17       1    2   1.0   2660     560\n",
       "2     17       1    7   1.0  20060     930\n",
       "3     17       1    1   1.0    736     758\n",
       "4     17       1    1   1.0   1194     754\n",
       "6     17       1    4   1.0   2205     754\n",
       "..   ...     ...  ...   ...    ...     ...\n",
       "489    0       0    2   1.0   1264     640\n",
       "490    0       0    2   1.0   1282     640\n",
       "491    0       0    2   1.0   1393     640\n",
       "493    0       0    2   1.0   1266     640\n",
       "499    0       0    4   1.0   4931     640\n",
       "\n",
       "[500 rows x 6 columns]"
      ]
     },
     "execution_count": 5,
     "metadata": {},
     "output_type": "execute_result"
    }
   ],
   "source": [
    "df.sort_values(by=[\"AGE\",\"GENDER\"], ascending=False, inplace=True)\n",
    "df"
   ]
  },
  {
   "cell_type": "markdown",
   "id": "68fee19c",
   "metadata": {},
   "source": [
    "#### Creating a separate Dataframe for viewing rows with null values"
   ]
  },
  {
   "cell_type": "code",
   "execution_count": 6,
   "id": "3ac73b87",
   "metadata": {},
   "outputs": [
    {
     "data": {
      "text/html": [
       "<div>\n",
       "<style scoped>\n",
       "    .dataframe tbody tr th:only-of-type {\n",
       "        vertical-align: middle;\n",
       "    }\n",
       "\n",
       "    .dataframe tbody tr th {\n",
       "        vertical-align: top;\n",
       "    }\n",
       "\n",
       "    .dataframe thead th {\n",
       "        text-align: right;\n",
       "    }\n",
       "</style>\n",
       "<table border=\"1\" class=\"dataframe\">\n",
       "  <thead>\n",
       "    <tr style=\"text-align: right;\">\n",
       "      <th></th>\n",
       "      <th>AGE</th>\n",
       "      <th>GENDER</th>\n",
       "      <th>LOS</th>\n",
       "      <th>RACE</th>\n",
       "      <th>COST</th>\n",
       "      <th>APRDRG</th>\n",
       "    </tr>\n",
       "  </thead>\n",
       "  <tbody>\n",
       "    <tr>\n",
       "      <th>276</th>\n",
       "      <td>0</td>\n",
       "      <td>1</td>\n",
       "      <td>2</td>\n",
       "      <td>NaN</td>\n",
       "      <td>1156</td>\n",
       "      <td>640</td>\n",
       "    </tr>\n",
       "  </tbody>\n",
       "</table>\n",
       "</div>"
      ],
      "text/plain": [
       "     AGE  GENDER  LOS  RACE  COST  APRDRG\n",
       "276    0       1    2   NaN  1156     640"
      ]
     },
     "execution_count": 6,
     "metadata": {},
     "output_type": "execute_result"
    }
   ],
   "source": [
    "df_NaN = df[df.isnull().any(axis=1)]\n",
    "df_NaN"
   ]
  },
  {
   "cell_type": "code",
   "execution_count": 7,
   "id": "ba9e21fb",
   "metadata": {
    "scrolled": true
   },
   "outputs": [
    {
     "data": {
      "text/plain": [
       "0      1.0\n",
       "2      1.0\n",
       "3      1.0\n",
       "4      1.0\n",
       "6      1.0\n",
       "      ... \n",
       "489    1.0\n",
       "490    1.0\n",
       "491    1.0\n",
       "493    1.0\n",
       "499    1.0\n",
       "Name: RACE, Length: 500, dtype: float64"
      ]
     },
     "execution_count": 7,
     "metadata": {},
     "output_type": "execute_result"
    }
   ],
   "source": [
    "# Filling missing 'Race' values with mode:\n",
    "df.RACE=df.RACE.fillna(df.RACE.mode())\n",
    "df.RACE"
   ]
  },
  {
   "cell_type": "code",
   "execution_count": 8,
   "id": "6aba464f",
   "metadata": {},
   "outputs": [
    {
     "data": {
      "text/html": [
       "<div>\n",
       "<style scoped>\n",
       "    .dataframe tbody tr th:only-of-type {\n",
       "        vertical-align: middle;\n",
       "    }\n",
       "\n",
       "    .dataframe tbody tr th {\n",
       "        vertical-align: top;\n",
       "    }\n",
       "\n",
       "    .dataframe thead th {\n",
       "        text-align: right;\n",
       "    }\n",
       "</style>\n",
       "<table border=\"1\" class=\"dataframe\">\n",
       "  <thead>\n",
       "    <tr style=\"text-align: right;\">\n",
       "      <th></th>\n",
       "      <th>AGE</th>\n",
       "      <th>LOS</th>\n",
       "      <th>COST</th>\n",
       "    </tr>\n",
       "  </thead>\n",
       "  <tbody>\n",
       "    <tr>\n",
       "      <th>count</th>\n",
       "      <td>500.000000</td>\n",
       "      <td>500.000000</td>\n",
       "      <td>500.000000</td>\n",
       "    </tr>\n",
       "    <tr>\n",
       "      <th>mean</th>\n",
       "      <td>5.086000</td>\n",
       "      <td>2.828000</td>\n",
       "      <td>2774.388000</td>\n",
       "    </tr>\n",
       "    <tr>\n",
       "      <th>std</th>\n",
       "      <td>6.949474</td>\n",
       "      <td>3.363487</td>\n",
       "      <td>3888.407367</td>\n",
       "    </tr>\n",
       "    <tr>\n",
       "      <th>min</th>\n",
       "      <td>0.000000</td>\n",
       "      <td>0.000000</td>\n",
       "      <td>532.000000</td>\n",
       "    </tr>\n",
       "    <tr>\n",
       "      <th>25%</th>\n",
       "      <td>0.000000</td>\n",
       "      <td>2.000000</td>\n",
       "      <td>1216.250000</td>\n",
       "    </tr>\n",
       "    <tr>\n",
       "      <th>50%</th>\n",
       "      <td>0.000000</td>\n",
       "      <td>2.000000</td>\n",
       "      <td>1536.500000</td>\n",
       "    </tr>\n",
       "    <tr>\n",
       "      <th>75%</th>\n",
       "      <td>13.000000</td>\n",
       "      <td>3.000000</td>\n",
       "      <td>2530.250000</td>\n",
       "    </tr>\n",
       "    <tr>\n",
       "      <th>max</th>\n",
       "      <td>17.000000</td>\n",
       "      <td>41.000000</td>\n",
       "      <td>48388.000000</td>\n",
       "    </tr>\n",
       "  </tbody>\n",
       "</table>\n",
       "</div>"
      ],
      "text/plain": [
       "              AGE         LOS          COST\n",
       "count  500.000000  500.000000    500.000000\n",
       "mean     5.086000    2.828000   2774.388000\n",
       "std      6.949474    3.363487   3888.407367\n",
       "min      0.000000    0.000000    532.000000\n",
       "25%      0.000000    2.000000   1216.250000\n",
       "50%      0.000000    2.000000   1536.500000\n",
       "75%     13.000000    3.000000   2530.250000\n",
       "max     17.000000   41.000000  48388.000000"
      ]
     },
     "execution_count": 8,
     "metadata": {},
     "output_type": "execute_result"
    }
   ],
   "source": [
    "#describe data\n",
    "df.describe()[[\"AGE\", \"LOS\", \"COST\"]]"
   ]
  },
  {
   "cell_type": "markdown",
   "id": "21f4e036",
   "metadata": {},
   "source": [
    "#### Age category of people who frequent the hospital"
   ]
  },
  {
   "cell_type": "code",
   "execution_count": 9,
   "id": "7a9739b3",
   "metadata": {},
   "outputs": [
    {
     "data": {
      "text/plain": [
       "<AxesSubplot:>"
      ]
     },
     "execution_count": 9,
     "metadata": {},
     "output_type": "execute_result"
    },
    {
     "data": {
      "image/png": "[encoded data removed]",
      "text/plain": [
       "<Figure size 432x288 with 1 Axes>"
      ]
     },
     "metadata": {},
     "output_type": "display_data"
    }
   ],
   "source": [
    "df['AGE'].value_counts().plot.bar()"
   ]
  },
  {
   "cell_type": "markdown",
   "id": "65838936",
   "metadata": {},
   "source": [
    "It can be clearly seen that most of the patients are newborn babies."
   ]
  },
  {
   "cell_type": "markdown",
   "id": "2cdba6e2",
   "metadata": {},
   "source": [
    "#### creating a new column to calculate cost of stay per day for each patient"
   ]
  },
  {
   "cell_type": "code",
   "execution_count": 10,
   "id": "07a29892",
   "metadata": {},
   "outputs": [
    {
     "data": {
      "text/html": [
       "<div>\n",
       "<style scoped>\n",
       "    .dataframe tbody tr th:only-of-type {\n",
       "        vertical-align: middle;\n",
       "    }\n",
       "\n",
       "    .dataframe tbody tr th {\n",
       "        vertical-align: top;\n",
       "    }\n",
       "\n",
       "    .dataframe thead th {\n",
       "        text-align: right;\n",
       "    }\n",
       "</style>\n",
       "<table border=\"1\" class=\"dataframe\">\n",
       "  <thead>\n",
       "    <tr style=\"text-align: right;\">\n",
       "      <th></th>\n",
       "      <th>AGE</th>\n",
       "      <th>GENDER</th>\n",
       "      <th>LOS</th>\n",
       "      <th>RACE</th>\n",
       "      <th>COST</th>\n",
       "      <th>APRDRG</th>\n",
       "      <th>Cost_day</th>\n",
       "    </tr>\n",
       "  </thead>\n",
       "  <tbody>\n",
       "    <tr>\n",
       "      <th>308</th>\n",
       "      <td>15</td>\n",
       "      <td>0</td>\n",
       "      <td>1</td>\n",
       "      <td>1.0</td>\n",
       "      <td>12024</td>\n",
       "      <td>92</td>\n",
       "      <td>12024.000000</td>\n",
       "    </tr>\n",
       "    <tr>\n",
       "      <th>398</th>\n",
       "      <td>9</td>\n",
       "      <td>0</td>\n",
       "      <td>1</td>\n",
       "      <td>1.0</td>\n",
       "      <td>10585</td>\n",
       "      <td>308</td>\n",
       "      <td>10585.000000</td>\n",
       "    </tr>\n",
       "    <tr>\n",
       "      <th>256</th>\n",
       "      <td>16</td>\n",
       "      <td>0</td>\n",
       "      <td>1</td>\n",
       "      <td>2.0</td>\n",
       "      <td>8159</td>\n",
       "      <td>313</td>\n",
       "      <td>8159.000000</td>\n",
       "    </tr>\n",
       "    <tr>\n",
       "      <th>166</th>\n",
       "      <td>3</td>\n",
       "      <td>0</td>\n",
       "      <td>1</td>\n",
       "      <td>1.0</td>\n",
       "      <td>8084</td>\n",
       "      <td>57</td>\n",
       "      <td>8084.000000</td>\n",
       "    </tr>\n",
       "    <tr>\n",
       "      <th>22</th>\n",
       "      <td>12</td>\n",
       "      <td>0</td>\n",
       "      <td>1</td>\n",
       "      <td>1.0</td>\n",
       "      <td>7421</td>\n",
       "      <td>249</td>\n",
       "      <td>7421.000000</td>\n",
       "    </tr>\n",
       "    <tr>\n",
       "      <th>...</th>\n",
       "      <td>...</td>\n",
       "      <td>...</td>\n",
       "      <td>...</td>\n",
       "      <td>...</td>\n",
       "      <td>...</td>\n",
       "      <td>...</td>\n",
       "      <td>...</td>\n",
       "    </tr>\n",
       "    <tr>\n",
       "      <th>464</th>\n",
       "      <td>0</td>\n",
       "      <td>1</td>\n",
       "      <td>3</td>\n",
       "      <td>1.0</td>\n",
       "      <td>1517</td>\n",
       "      <td>640</td>\n",
       "      <td>505.666667</td>\n",
       "    </tr>\n",
       "    <tr>\n",
       "      <th>196</th>\n",
       "      <td>0</td>\n",
       "      <td>1</td>\n",
       "      <td>3</td>\n",
       "      <td>1.0</td>\n",
       "      <td>1505</td>\n",
       "      <td>640</td>\n",
       "      <td>501.666667</td>\n",
       "    </tr>\n",
       "    <tr>\n",
       "      <th>76</th>\n",
       "      <td>0</td>\n",
       "      <td>1</td>\n",
       "      <td>3</td>\n",
       "      <td>1.0</td>\n",
       "      <td>1499</td>\n",
       "      <td>640</td>\n",
       "      <td>499.666667</td>\n",
       "    </tr>\n",
       "    <tr>\n",
       "      <th>431</th>\n",
       "      <td>0</td>\n",
       "      <td>1</td>\n",
       "      <td>3</td>\n",
       "      <td>1.0</td>\n",
       "      <td>1431</td>\n",
       "      <td>640</td>\n",
       "      <td>477.000000</td>\n",
       "    </tr>\n",
       "    <tr>\n",
       "      <th>171</th>\n",
       "      <td>0</td>\n",
       "      <td>0</td>\n",
       "      <td>2</td>\n",
       "      <td>1.0</td>\n",
       "      <td>877</td>\n",
       "      <td>640</td>\n",
       "      <td>438.500000</td>\n",
       "    </tr>\n",
       "  </tbody>\n",
       "</table>\n",
       "<p>485 rows × 7 columns</p>\n",
       "</div>"
      ],
      "text/plain": [
       "     AGE  GENDER  LOS  RACE   COST  APRDRG      Cost_day\n",
       "308   15       0    1   1.0  12024      92  12024.000000\n",
       "398    9       0    1   1.0  10585     308  10585.000000\n",
       "256   16       0    1   2.0   8159     313   8159.000000\n",
       "166    3       0    1   1.0   8084      57   8084.000000\n",
       "22    12       0    1   1.0   7421     249   7421.000000\n",
       "..   ...     ...  ...   ...    ...     ...           ...\n",
       "464    0       1    3   1.0   1517     640    505.666667\n",
       "196    0       1    3   1.0   1505     640    501.666667\n",
       "76     0       1    3   1.0   1499     640    499.666667\n",
       "431    0       1    3   1.0   1431     640    477.000000\n",
       "171    0       0    2   1.0    877     640    438.500000\n",
       "\n",
       "[485 rows x 7 columns]"
      ]
     },
     "execution_count": 10,
     "metadata": {},
     "output_type": "execute_result"
    }
   ],
   "source": [
    "df=df.loc[(df.LOS>0)].copy()\n",
    "df[\"Cost_day\"] = df[\"COST\"] / df[\"LOS\"]\n",
    "df.sort_values(\"Cost_day\", ascending=False)"
   ]
  },
  {
   "cell_type": "markdown",
   "id": "c9fc59fd",
   "metadata": {},
   "source": [
    "#### plotting boxplot and barplot of Cost per day v/s AGE"
   ]
  },
  {
   "cell_type": "code",
   "execution_count": 11,
   "id": "2c97b48d",
   "metadata": {},
   "outputs": [
    {
     "data": {
      "image/png": "[encoded data removed]",
      "text/plain": [
       "<Figure size 864x576 with 1 Axes>"
      ]
     },
     "metadata": {},
     "output_type": "display_data"
    }
   ],
   "source": [
    "plt.figure(figsize=(12,8))\n",
    "sns.boxplot(data=df, x=\"AGE\", y=\"Cost_day\")\n",
    "plt.tight_layout()"
   ]
  },
  {
   "cell_type": "code",
   "execution_count": 12,
   "id": "9f45668d",
   "metadata": {},
   "outputs": [
    {
     "data": {
      "text/plain": [
       "<AxesSubplot:xlabel='AGE', ylabel='COST'>"
      ]
     },
     "execution_count": 12,
     "metadata": {},
     "output_type": "execute_result"
    },
    {
     "data": {
      "image/png": "[encoded data removed]",
      "text/plain": [
       "<Figure size 432x288 with 1 Axes>"
      ]
     },
     "metadata": {},
     "output_type": "display_data"
    }
   ],
   "source": [
    "sns.barplot(data=df, x=\"AGE\", y=\"COST\")"
   ]
  },
  {
   "cell_type": "markdown",
   "id": "4ce91de7",
   "metadata": {},
   "source": [
    "#### mean cost by age"
   ]
  },
  {
   "cell_type": "code",
   "execution_count": 13,
   "id": "40af3114",
   "metadata": {
    "scrolled": true
   },
   "outputs": [
    {
     "data": {
      "text/html": [
       "<div>\n",
       "<style scoped>\n",
       "    .dataframe tbody tr th:only-of-type {\n",
       "        vertical-align: middle;\n",
       "    }\n",
       "\n",
       "    .dataframe tbody tr th {\n",
       "        vertical-align: top;\n",
       "    }\n",
       "\n",
       "    .dataframe thead th {\n",
       "        text-align: right;\n",
       "    }\n",
       "</style>\n",
       "<table border=\"1\" class=\"dataframe\">\n",
       "  <thead>\n",
       "    <tr style=\"text-align: right;\">\n",
       "      <th></th>\n",
       "      <th>AGE</th>\n",
       "      <th>COST</th>\n",
       "    </tr>\n",
       "  </thead>\n",
       "  <tbody>\n",
       "    <tr>\n",
       "      <th>9</th>\n",
       "      <td>9</td>\n",
       "      <td>10573.500000</td>\n",
       "    </tr>\n",
       "    <tr>\n",
       "      <th>3</th>\n",
       "      <td>3</td>\n",
       "      <td>10183.333333</td>\n",
       "    </tr>\n",
       "    <tr>\n",
       "      <th>5</th>\n",
       "      <td>5</td>\n",
       "      <td>9253.500000</td>\n",
       "    </tr>\n",
       "    <tr>\n",
       "      <th>6</th>\n",
       "      <td>6</td>\n",
       "      <td>8964.000000</td>\n",
       "    </tr>\n",
       "    <tr>\n",
       "      <th>4</th>\n",
       "      <td>4</td>\n",
       "      <td>7996.000000</td>\n",
       "    </tr>\n",
       "    <tr>\n",
       "      <th>2</th>\n",
       "      <td>2</td>\n",
       "      <td>7298.000000</td>\n",
       "    </tr>\n",
       "    <tr>\n",
       "      <th>10</th>\n",
       "      <td>10</td>\n",
       "      <td>7181.333333</td>\n",
       "    </tr>\n",
       "    <tr>\n",
       "      <th>7</th>\n",
       "      <td>7</td>\n",
       "      <td>6425.000000</td>\n",
       "    </tr>\n",
       "    <tr>\n",
       "      <th>17</th>\n",
       "      <td>17</td>\n",
       "      <td>4634.378378</td>\n",
       "    </tr>\n",
       "    <tr>\n",
       "      <th>15</th>\n",
       "      <td>15</td>\n",
       "      <td>4227.230769</td>\n",
       "    </tr>\n",
       "    <tr>\n",
       "      <th>1</th>\n",
       "      <td>1</td>\n",
       "      <td>3774.400000</td>\n",
       "    </tr>\n",
       "    <tr>\n",
       "      <th>12</th>\n",
       "      <td>12</td>\n",
       "      <td>3660.800000</td>\n",
       "    </tr>\n",
       "    <tr>\n",
       "      <th>14</th>\n",
       "      <td>14</td>\n",
       "      <td>2585.720000</td>\n",
       "    </tr>\n",
       "    <tr>\n",
       "      <th>16</th>\n",
       "      <td>16</td>\n",
       "      <td>2489.307692</td>\n",
       "    </tr>\n",
       "    <tr>\n",
       "      <th>8</th>\n",
       "      <td>8</td>\n",
       "      <td>2370.500000</td>\n",
       "    </tr>\n",
       "    <tr>\n",
       "      <th>0</th>\n",
       "      <td>0</td>\n",
       "      <td>2210.937500</td>\n",
       "    </tr>\n",
       "    <tr>\n",
       "      <th>11</th>\n",
       "      <td>11</td>\n",
       "      <td>1888.142857</td>\n",
       "    </tr>\n",
       "    <tr>\n",
       "      <th>13</th>\n",
       "      <td>13</td>\n",
       "      <td>1778.000000</td>\n",
       "    </tr>\n",
       "  </tbody>\n",
       "</table>\n",
       "</div>"
      ],
      "text/plain": [
       "    AGE          COST\n",
       "9     9  10573.500000\n",
       "3     3  10183.333333\n",
       "5     5   9253.500000\n",
       "6     6   8964.000000\n",
       "4     4   7996.000000\n",
       "2     2   7298.000000\n",
       "10   10   7181.333333\n",
       "7     7   6425.000000\n",
       "17   17   4634.378378\n",
       "15   15   4227.230769\n",
       "1     1   3774.400000\n",
       "12   12   3660.800000\n",
       "14   14   2585.720000\n",
       "16   16   2489.307692\n",
       "8     8   2370.500000\n",
       "0     0   2210.937500\n",
       "11   11   1888.142857\n",
       "13   13   1778.000000"
      ]
     },
     "execution_count": 13,
     "metadata": {},
     "output_type": "execute_result"
    }
   ],
   "source": [
    "df[['AGE','COST']].groupby(\"AGE\", as_index=False).mean().sort_values(\"COST\", ascending=False)"
   ]
  },
  {
   "cell_type": "markdown",
   "id": "a2162a5d",
   "metadata": {},
   "source": [
    "#### total COST for each AGE sorted in decreased order of AGE"
   ]
  },
  {
   "cell_type": "code",
   "execution_count": 14,
   "id": "15f6a094",
   "metadata": {},
   "outputs": [
    {
     "data": {
      "text/html": [
       "<div>\n",
       "<style scoped>\n",
       "    .dataframe tbody tr th:only-of-type {\n",
       "        vertical-align: middle;\n",
       "    }\n",
       "\n",
       "    .dataframe tbody tr th {\n",
       "        vertical-align: top;\n",
       "    }\n",
       "\n",
       "    .dataframe thead th {\n",
       "        text-align: right;\n",
       "    }\n",
       "</style>\n",
       "<table border=\"1\" class=\"dataframe\">\n",
       "  <thead>\n",
       "    <tr style=\"text-align: right;\">\n",
       "      <th></th>\n",
       "      <th>AGE</th>\n",
       "      <th>COST</th>\n",
       "    </tr>\n",
       "  </thead>\n",
       "  <tbody>\n",
       "    <tr>\n",
       "      <th>0</th>\n",
       "      <td>0</td>\n",
       "      <td>672125</td>\n",
       "    </tr>\n",
       "    <tr>\n",
       "      <th>17</th>\n",
       "      <td>17</td>\n",
       "      <td>171472</td>\n",
       "    </tr>\n",
       "    <tr>\n",
       "      <th>15</th>\n",
       "      <td>15</td>\n",
       "      <td>109908</td>\n",
       "    </tr>\n",
       "    <tr>\n",
       "      <th>16</th>\n",
       "      <td>16</td>\n",
       "      <td>64722</td>\n",
       "    </tr>\n",
       "    <tr>\n",
       "      <th>14</th>\n",
       "      <td>14</td>\n",
       "      <td>64643</td>\n",
       "    </tr>\n",
       "    <tr>\n",
       "      <th>12</th>\n",
       "      <td>12</td>\n",
       "      <td>54912</td>\n",
       "    </tr>\n",
       "    <tr>\n",
       "      <th>1</th>\n",
       "      <td>1</td>\n",
       "      <td>37744</td>\n",
       "    </tr>\n",
       "    <tr>\n",
       "      <th>3</th>\n",
       "      <td>3</td>\n",
       "      <td>30550</td>\n",
       "    </tr>\n",
       "    <tr>\n",
       "      <th>13</th>\n",
       "      <td>13</td>\n",
       "      <td>30226</td>\n",
       "    </tr>\n",
       "    <tr>\n",
       "      <th>10</th>\n",
       "      <td>10</td>\n",
       "      <td>21544</td>\n",
       "    </tr>\n",
       "    <tr>\n",
       "      <th>9</th>\n",
       "      <td>9</td>\n",
       "      <td>21147</td>\n",
       "    </tr>\n",
       "    <tr>\n",
       "      <th>5</th>\n",
       "      <td>5</td>\n",
       "      <td>18507</td>\n",
       "    </tr>\n",
       "    <tr>\n",
       "      <th>6</th>\n",
       "      <td>6</td>\n",
       "      <td>17928</td>\n",
       "    </tr>\n",
       "    <tr>\n",
       "      <th>4</th>\n",
       "      <td>4</td>\n",
       "      <td>15992</td>\n",
       "    </tr>\n",
       "    <tr>\n",
       "      <th>11</th>\n",
       "      <td>11</td>\n",
       "      <td>13217</td>\n",
       "    </tr>\n",
       "    <tr>\n",
       "      <th>2</th>\n",
       "      <td>2</td>\n",
       "      <td>7298</td>\n",
       "    </tr>\n",
       "    <tr>\n",
       "      <th>7</th>\n",
       "      <td>7</td>\n",
       "      <td>6425</td>\n",
       "    </tr>\n",
       "    <tr>\n",
       "      <th>8</th>\n",
       "      <td>8</td>\n",
       "      <td>4741</td>\n",
       "    </tr>\n",
       "  </tbody>\n",
       "</table>\n",
       "</div>"
      ],
      "text/plain": [
       "    AGE    COST\n",
       "0     0  672125\n",
       "17   17  171472\n",
       "15   15  109908\n",
       "16   16   64722\n",
       "14   14   64643\n",
       "12   12   54912\n",
       "1     1   37744\n",
       "3     3   30550\n",
       "13   13   30226\n",
       "10   10   21544\n",
       "9     9   21147\n",
       "5     5   18507\n",
       "6     6   17928\n",
       "4     4   15992\n",
       "11   11   13217\n",
       "2     2    7298\n",
       "7     7    6425\n",
       "8     8    4741"
      ]
     },
     "execution_count": 14,
     "metadata": {},
     "output_type": "execute_result"
    }
   ],
   "source": [
    "df[['AGE','COST']].groupby(\"AGE\", as_index=False).sum().sort_values(\"COST\", ascending=False)"
   ]
  },
  {
   "cell_type": "markdown",
   "id": "0bd50289",
   "metadata": {},
   "source": [
    "#### plotting barplot of LOS v/s AGE"
   ]
  },
  {
   "cell_type": "code",
   "execution_count": 15,
   "id": "89dfabbf",
   "metadata": {},
   "outputs": [
    {
     "data": {
      "text/plain": [
       "<AxesSubplot:xlabel='AGE', ylabel='LOS'>"
      ]
     },
     "execution_count": 15,
     "metadata": {},
     "output_type": "execute_result"
    },
    {
     "data": {
      "image/png": "[encoded data removed]",
      "text/plain": [
       "<Figure size 1008x720 with 1 Axes>"
      ]
     },
     "metadata": {},
     "output_type": "display_data"
    }
   ],
   "source": [
    "plt.figure(figsize=(14,10))\n",
    "sns.barplot(data=df, x=\"AGE\", y=\"LOS\")"
   ]
  },
  {
   "cell_type": "markdown",
   "id": "8bfc854e",
   "metadata": {},
   "source": [
    "#### mean LOS by age"
   ]
  },
  {
   "cell_type": "code",
   "execution_count": 16,
   "id": "811396a6",
   "metadata": {},
   "outputs": [
    {
     "data": {
      "text/html": [
       "<div>\n",
       "<style scoped>\n",
       "    .dataframe tbody tr th:only-of-type {\n",
       "        vertical-align: middle;\n",
       "    }\n",
       "\n",
       "    .dataframe tbody tr th {\n",
       "        vertical-align: top;\n",
       "    }\n",
       "\n",
       "    .dataframe thead th {\n",
       "        text-align: right;\n",
       "    }\n",
       "</style>\n",
       "<table border=\"1\" class=\"dataframe\">\n",
       "  <thead>\n",
       "    <tr style=\"text-align: right;\">\n",
       "      <th></th>\n",
       "      <th>AGE</th>\n",
       "      <th>LOS</th>\n",
       "    </tr>\n",
       "  </thead>\n",
       "  <tbody>\n",
       "    <tr>\n",
       "      <th>0</th>\n",
       "      <td>0</td>\n",
       "      <td>941</td>\n",
       "    </tr>\n",
       "    <tr>\n",
       "      <th>17</th>\n",
       "      <td>17</td>\n",
       "      <td>100</td>\n",
       "    </tr>\n",
       "    <tr>\n",
       "      <th>15</th>\n",
       "      <td>15</td>\n",
       "      <td>92</td>\n",
       "    </tr>\n",
       "    <tr>\n",
       "      <th>14</th>\n",
       "      <td>14</td>\n",
       "      <td>76</td>\n",
       "    </tr>\n",
       "    <tr>\n",
       "      <th>16</th>\n",
       "      <td>16</td>\n",
       "      <td>53</td>\n",
       "    </tr>\n",
       "    <tr>\n",
       "      <th>13</th>\n",
       "      <td>13</td>\n",
       "      <td>42</td>\n",
       "    </tr>\n",
       "    <tr>\n",
       "      <th>12</th>\n",
       "      <td>12</td>\n",
       "      <td>36</td>\n",
       "    </tr>\n",
       "    <tr>\n",
       "      <th>1</th>\n",
       "      <td>1</td>\n",
       "      <td>18</td>\n",
       "    </tr>\n",
       "    <tr>\n",
       "      <th>10</th>\n",
       "      <td>10</td>\n",
       "      <td>11</td>\n",
       "    </tr>\n",
       "    <tr>\n",
       "      <th>11</th>\n",
       "      <td>11</td>\n",
       "      <td>11</td>\n",
       "    </tr>\n",
       "    <tr>\n",
       "      <th>3</th>\n",
       "      <td>3</td>\n",
       "      <td>10</td>\n",
       "    </tr>\n",
       "    <tr>\n",
       "      <th>5</th>\n",
       "      <td>5</td>\n",
       "      <td>5</td>\n",
       "    </tr>\n",
       "    <tr>\n",
       "      <th>6</th>\n",
       "      <td>6</td>\n",
       "      <td>5</td>\n",
       "    </tr>\n",
       "    <tr>\n",
       "      <th>4</th>\n",
       "      <td>4</td>\n",
       "      <td>4</td>\n",
       "    </tr>\n",
       "    <tr>\n",
       "      <th>9</th>\n",
       "      <td>9</td>\n",
       "      <td>4</td>\n",
       "    </tr>\n",
       "    <tr>\n",
       "      <th>8</th>\n",
       "      <td>8</td>\n",
       "      <td>3</td>\n",
       "    </tr>\n",
       "    <tr>\n",
       "      <th>2</th>\n",
       "      <td>2</td>\n",
       "      <td>2</td>\n",
       "    </tr>\n",
       "    <tr>\n",
       "      <th>7</th>\n",
       "      <td>7</td>\n",
       "      <td>1</td>\n",
       "    </tr>\n",
       "  </tbody>\n",
       "</table>\n",
       "</div>"
      ],
      "text/plain": [
       "    AGE  LOS\n",
       "0     0  941\n",
       "17   17  100\n",
       "15   15   92\n",
       "14   14   76\n",
       "16   16   53\n",
       "13   13   42\n",
       "12   12   36\n",
       "1     1   18\n",
       "10   10   11\n",
       "11   11   11\n",
       "3     3   10\n",
       "5     5    5\n",
       "6     6    5\n",
       "4     4    4\n",
       "9     9    4\n",
       "8     8    3\n",
       "2     2    2\n",
       "7     7    1"
      ]
     },
     "execution_count": 16,
     "metadata": {},
     "output_type": "execute_result"
    }
   ],
   "source": [
    "df[['AGE','LOS']].groupby(\"AGE\", as_index=False).sum().sort_values(\"LOS\", ascending=False)"
   ]
  },
  {
   "cell_type": "markdown",
   "id": "04ddb43e",
   "metadata": {},
   "source": [
    "### Task 1:\n",
    "#### To record the patient statistics, the agency wants to find the age category of people who frequent the hospital and has the maximum expenditure.\n",
    "### RESULT:\n",
    "#### Age category between 0-3 and 12-17 frequent hospital the most and 3-9 has maximum expenditure."
   ]
  },
  {
   "cell_type": "markdown",
   "id": "8a8a11ce",
   "metadata": {},
   "source": [
    "### Exploring diagnosis related group "
   ]
  },
  {
   "cell_type": "markdown",
   "id": "a34875b6",
   "metadata": {},
   "source": [
    "#### Most frequent diagnosis"
   ]
  },
  {
   "cell_type": "code",
   "execution_count": 17,
   "id": "da1dd950",
   "metadata": {},
   "outputs": [
    {
     "data": {
      "text/plain": [
       "640    267\n",
       "753     35\n",
       "754     32\n",
       "758     20\n",
       "751     14\n",
       "      ... \n",
       "137      1\n",
       "143      1\n",
       "581      1\n",
       "421      1\n",
       "561      1\n",
       "Name: APRDRG, Length: 62, dtype: int64"
      ]
     },
     "execution_count": 17,
     "metadata": {},
     "output_type": "execute_result"
    }
   ],
   "source": [
    "df[\"APRDRG\"].value_counts().sort_values(ascending=False)"
   ]
  },
  {
   "cell_type": "code",
   "execution_count": 18,
   "id": "8b1452e9",
   "metadata": {},
   "outputs": [
    {
     "data": {
      "text/plain": [
       "<AxesSubplot:xlabel='APRDRG'>"
      ]
     },
     "execution_count": 18,
     "metadata": {},
     "output_type": "execute_result"
    },
    {
     "data": {
      "image/png": "[encoded data removed]",
      "text/plain": [
       "<Figure size 864x288 with 1 Axes>"
      ]
     },
     "metadata": {},
     "output_type": "display_data"
    }
   ],
   "source": [
    "plt.figure(figsize=(12,4))\n",
    "plt.xticks(rotation=90)\n",
    "sns.violinplot(data=df, x=\"APRDRG\")"
   ]
  },
  {
   "cell_type": "markdown",
   "id": "ef9d350c",
   "metadata": {},
   "source": [
    "scatterplot of COST v/s LOS hued according to APRDRG"
   ]
  },
  {
   "cell_type": "code",
   "execution_count": 19,
   "id": "9239af72",
   "metadata": {},
   "outputs": [
    {
     "data": {
      "text/plain": [
       "<seaborn.axisgrid.FacetGrid at 0x2c8b01539a0>"
      ]
     },
     "execution_count": 19,
     "metadata": {},
     "output_type": "execute_result"
    },
    {
     "data": {
      "image/png": "[encoded data removed]",
      "text/plain": [
       "<Figure size 449.95x360 with 1 Axes>"
      ]
     },
     "metadata": {},
     "output_type": "display_data"
    }
   ],
   "source": [
    "sns.relplot(x=\"LOS\", y=\"COST\",hue=\"APRDRG\", data=df)"
   ]
  },
  {
   "cell_type": "markdown",
   "id": "5d820d04",
   "metadata": {},
   "source": [
    "#### Diagnosis vs cost"
   ]
  },
  {
   "cell_type": "code",
   "execution_count": 20,
   "id": "629de618",
   "metadata": {},
   "outputs": [
    {
     "data": {
      "text/plain": [
       "APRDRG\n",
       "911    48388.0\n",
       "602    29188.0\n",
       "421    26356.0\n",
       "49     20195.0\n",
       "317    17524.0\n",
       "137    15129.0\n",
       "720    14243.0\n",
       "23     14174.0\n",
       "930    13327.0\n",
       "863    13040.0\n",
       "115    12916.0\n",
       "225    12824.5\n",
       "92     12024.0\n",
       "344    11877.0\n",
       "740    11125.0\n",
       "308    10585.0\n",
       "114    10562.0\n",
       "21     10002.0\n",
       "97      9530.0\n",
       "206     9230.0\n",
       "Name: COST, dtype: float64"
      ]
     },
     "execution_count": 20,
     "metadata": {},
     "output_type": "execute_result"
    }
   ],
   "source": [
    "df.groupby([\"APRDRG\"]).mean()[\"COST\"].sort_values(ascending=False)[:20]"
   ]
  },
  {
   "cell_type": "markdown",
   "id": "bab0dd99",
   "metadata": {},
   "source": [
    "#### Diagnosis vs length of stay"
   ]
  },
  {
   "cell_type": "code",
   "execution_count": 21,
   "id": "2ceb5b48",
   "metadata": {},
   "outputs": [
    {
     "data": {
      "text/plain": [
       "APRDRG\n",
       "602    41.000000\n",
       "421    39.000000\n",
       "863    24.000000\n",
       "614    15.000000\n",
       "137    12.000000\n",
       "760     7.000000\n",
       "317     7.000000\n",
       "911     7.000000\n",
       "636     6.666667\n",
       "633     6.250000\n",
       "Name: LOS, dtype: float64"
      ]
     },
     "execution_count": 21,
     "metadata": {},
     "output_type": "execute_result"
    }
   ],
   "source": [
    "df.groupby([\"APRDRG\"]).mean()[\"LOS\"].sort_values(ascending=False)[:10]"
   ]
  },
  {
   "cell_type": "markdown",
   "id": "d5ff9dc0",
   "metadata": {},
   "source": [
    "### Task 2\n",
    "#### To find out the expensive treatments, the agency wants to find the diagnosis related group that has maximum hospitalization and expenditure.\n",
    "### Result:\n",
    "#### 911 has highest expenditure whereas 640 frequent hospital the most and 602 has highest LOS among all."
   ]
  },
  {
   "cell_type": "markdown",
   "id": "191f7a43",
   "metadata": {},
   "source": [
    "### Exploring the relationship race-hospitalization costs"
   ]
  },
  {
   "cell_type": "markdown",
   "id": "e3054a97",
   "metadata": {},
   "source": [
    "#### Most frequent patients' race"
   ]
  },
  {
   "cell_type": "code",
   "execution_count": 22,
   "id": "6e7438e6",
   "metadata": {},
   "outputs": [
    {
     "data": {
      "text/plain": [
       "1.0    470\n",
       "2.0      6\n",
       "3.0      1\n",
       "4.0      3\n",
       "5.0      2\n",
       "6.0      2\n",
       "Name: RACE, dtype: int64"
      ]
     },
     "execution_count": 22,
     "metadata": {},
     "output_type": "execute_result"
    }
   ],
   "source": [
    "df[\"RACE\"].value_counts().sort_index()"
   ]
  },
  {
   "cell_type": "markdown",
   "id": "437a5ea1",
   "metadata": {},
   "source": [
    "#### correlation race-cost"
   ]
  },
  {
   "cell_type": "code",
   "execution_count": 23,
   "id": "58b22726",
   "metadata": {},
   "outputs": [
    {
     "data": {
      "text/plain": [
       "<AxesSubplot:xlabel='RACE', ylabel='COST'>"
      ]
     },
     "execution_count": 23,
     "metadata": {},
     "output_type": "execute_result"
    },
    {
     "data": {
      "image/png": "[encoded data removed]",
      "text/plain": [
       "<Figure size 1296x720 with 1 Axes>"
      ]
     },
     "metadata": {},
     "output_type": "display_data"
    }
   ],
   "source": [
    "plt.figure(figsize=(18, 10))\n",
    "sns.boxplot(data=df, x=\"RACE\", y=\"COST\")"
   ]
  },
  {
   "cell_type": "code",
   "execution_count": 24,
   "id": "ba9c830b",
   "metadata": {},
   "outputs": [
    {
     "data": {
      "text/plain": [
       "RACE\n",
       "2.0    4202.166667\n",
       "3.0    3041.000000\n",
       "1.0    2805.306383\n",
       "5.0    2732.500000\n",
       "4.0    2344.666667\n",
       "6.0    1349.000000\n",
       "Name: COST, dtype: float64"
      ]
     },
     "execution_count": 24,
     "metadata": {},
     "output_type": "execute_result"
    }
   ],
   "source": [
    "df.groupby([\"RACE\"]).mean()[\"COST\"].sort_values(ascending=False)"
   ]
  },
  {
   "cell_type": "markdown",
   "id": "c78c0c84",
   "metadata": {},
   "source": [
    "From overall mean of COST, we can see that RACE 2.0 and 3.0 has higher average cost. Thus, we will examine RACE 2.0 and 3.0."
   ]
  },
  {
   "cell_type": "code",
   "execution_count": 25,
   "id": "35c0ad51",
   "metadata": {},
   "outputs": [
    {
     "data": {
      "text/html": [
       "<div>\n",
       "<style scoped>\n",
       "    .dataframe tbody tr th:only-of-type {\n",
       "        vertical-align: middle;\n",
       "    }\n",
       "\n",
       "    .dataframe tbody tr th {\n",
       "        vertical-align: top;\n",
       "    }\n",
       "\n",
       "    .dataframe thead th {\n",
       "        text-align: right;\n",
       "    }\n",
       "</style>\n",
       "<table border=\"1\" class=\"dataframe\">\n",
       "  <thead>\n",
       "    <tr style=\"text-align: right;\">\n",
       "      <th></th>\n",
       "      <th>AGE</th>\n",
       "      <th>GENDER</th>\n",
       "      <th>LOS</th>\n",
       "      <th>RACE</th>\n",
       "      <th>COST</th>\n",
       "      <th>APRDRG</th>\n",
       "      <th>Cost_day</th>\n",
       "    </tr>\n",
       "  </thead>\n",
       "  <tbody>\n",
       "    <tr>\n",
       "      <th>256</th>\n",
       "      <td>16</td>\n",
       "      <td>0</td>\n",
       "      <td>1</td>\n",
       "      <td>2.0</td>\n",
       "      <td>8159</td>\n",
       "      <td>313</td>\n",
       "      <td>8159.00</td>\n",
       "    </tr>\n",
       "    <tr>\n",
       "      <th>303</th>\n",
       "      <td>16</td>\n",
       "      <td>0</td>\n",
       "      <td>2</td>\n",
       "      <td>2.0</td>\n",
       "      <td>10002</td>\n",
       "      <td>21</td>\n",
       "      <td>5001.00</td>\n",
       "    </tr>\n",
       "    <tr>\n",
       "      <th>492</th>\n",
       "      <td>15</td>\n",
       "      <td>1</td>\n",
       "      <td>4</td>\n",
       "      <td>2.0</td>\n",
       "      <td>3074</td>\n",
       "      <td>758</td>\n",
       "      <td>768.50</td>\n",
       "    </tr>\n",
       "    <tr>\n",
       "      <th>41</th>\n",
       "      <td>11</td>\n",
       "      <td>1</td>\n",
       "      <td>2</td>\n",
       "      <td>2.0</td>\n",
       "      <td>1534</td>\n",
       "      <td>753</td>\n",
       "      <td>767.00</td>\n",
       "    </tr>\n",
       "    <tr>\n",
       "      <th>410</th>\n",
       "      <td>8</td>\n",
       "      <td>0</td>\n",
       "      <td>2</td>\n",
       "      <td>2.0</td>\n",
       "      <td>1153</td>\n",
       "      <td>758</td>\n",
       "      <td>576.50</td>\n",
       "    </tr>\n",
       "    <tr>\n",
       "      <th>402</th>\n",
       "      <td>0</td>\n",
       "      <td>1</td>\n",
       "      <td>4</td>\n",
       "      <td>3.0</td>\n",
       "      <td>3041</td>\n",
       "      <td>626</td>\n",
       "      <td>760.25</td>\n",
       "    </tr>\n",
       "    <tr>\n",
       "      <th>282</th>\n",
       "      <td>0</td>\n",
       "      <td>0</td>\n",
       "      <td>2</td>\n",
       "      <td>2.0</td>\n",
       "      <td>1291</td>\n",
       "      <td>640</td>\n",
       "      <td>645.50</td>\n",
       "    </tr>\n",
       "  </tbody>\n",
       "</table>\n",
       "</div>"
      ],
      "text/plain": [
       "     AGE  GENDER  LOS  RACE   COST  APRDRG  Cost_day\n",
       "256   16       0    1   2.0   8159     313   8159.00\n",
       "303   16       0    2   2.0  10002      21   5001.00\n",
       "492   15       1    4   2.0   3074     758    768.50\n",
       "41    11       1    2   2.0   1534     753    767.00\n",
       "410    8       0    2   2.0   1153     758    576.50\n",
       "402    0       1    4   3.0   3041     626    760.25\n",
       "282    0       0    2   2.0   1291     640    645.50"
      ]
     },
     "execution_count": 25,
     "metadata": {},
     "output_type": "execute_result"
    }
   ],
   "source": [
    "df_race=df[(df.RACE==2.0)|(df.RACE==3.0)]\n",
    "df_race"
   ]
  },
  {
   "cell_type": "code",
   "execution_count": 26,
   "id": "019b6b4a",
   "metadata": {},
   "outputs": [
    {
     "data": {
      "text/html": [
       "<div>\n",
       "<style scoped>\n",
       "    .dataframe tbody tr th:only-of-type {\n",
       "        vertical-align: middle;\n",
       "    }\n",
       "\n",
       "    .dataframe tbody tr th {\n",
       "        vertical-align: top;\n",
       "    }\n",
       "\n",
       "    .dataframe thead th {\n",
       "        text-align: right;\n",
       "    }\n",
       "</style>\n",
       "<table border=\"1\" class=\"dataframe\">\n",
       "  <thead>\n",
       "    <tr style=\"text-align: right;\">\n",
       "      <th></th>\n",
       "      <th>COST</th>\n",
       "      <th>APRDRG</th>\n",
       "    </tr>\n",
       "  </thead>\n",
       "  <tbody>\n",
       "    <tr>\n",
       "      <th>count</th>\n",
       "      <td>6.000000</td>\n",
       "      <td>6.000000</td>\n",
       "    </tr>\n",
       "    <tr>\n",
       "      <th>mean</th>\n",
       "      <td>4202.166667</td>\n",
       "      <td>540.500000</td>\n",
       "    </tr>\n",
       "    <tr>\n",
       "      <th>std</th>\n",
       "      <td>3884.810905</td>\n",
       "      <td>307.019706</td>\n",
       "    </tr>\n",
       "    <tr>\n",
       "      <th>min</th>\n",
       "      <td>1153.000000</td>\n",
       "      <td>21.000000</td>\n",
       "    </tr>\n",
       "    <tr>\n",
       "      <th>25%</th>\n",
       "      <td>1351.750000</td>\n",
       "      <td>394.750000</td>\n",
       "    </tr>\n",
       "    <tr>\n",
       "      <th>50%</th>\n",
       "      <td>2304.000000</td>\n",
       "      <td>696.500000</td>\n",
       "    </tr>\n",
       "    <tr>\n",
       "      <th>75%</th>\n",
       "      <td>6887.750000</td>\n",
       "      <td>756.750000</td>\n",
       "    </tr>\n",
       "    <tr>\n",
       "      <th>max</th>\n",
       "      <td>10002.000000</td>\n",
       "      <td>758.000000</td>\n",
       "    </tr>\n",
       "  </tbody>\n",
       "</table>\n",
       "</div>"
      ],
      "text/plain": [
       "               COST      APRDRG\n",
       "count      6.000000    6.000000\n",
       "mean    4202.166667  540.500000\n",
       "std     3884.810905  307.019706\n",
       "min     1153.000000   21.000000\n",
       "25%     1351.750000  394.750000\n",
       "50%     2304.000000  696.500000\n",
       "75%     6887.750000  756.750000\n",
       "max    10002.000000  758.000000"
      ]
     },
     "execution_count": 26,
     "metadata": {},
     "output_type": "execute_result"
    }
   ],
   "source": [
    "df_race2=df_race[(df_race.RACE==2.0)]\n",
    "df_race2[['COST','APRDRG']].describe()"
   ]
  },
  {
   "cell_type": "markdown",
   "id": "8f388a45",
   "metadata": {},
   "source": [
    "#### finding what are the highest costs related to APRDRG and LOS that generate outliers on race 2.0"
   ]
  },
  {
   "cell_type": "code",
   "execution_count": 27,
   "id": "2c84b1db",
   "metadata": {},
   "outputs": [
    {
     "data": {
      "text/html": [
       "<div>\n",
       "<style scoped>\n",
       "    .dataframe tbody tr th:only-of-type {\n",
       "        vertical-align: middle;\n",
       "    }\n",
       "\n",
       "    .dataframe tbody tr th {\n",
       "        vertical-align: top;\n",
       "    }\n",
       "\n",
       "    .dataframe thead th {\n",
       "        text-align: right;\n",
       "    }\n",
       "</style>\n",
       "<table border=\"1\" class=\"dataframe\">\n",
       "  <thead>\n",
       "    <tr style=\"text-align: right;\">\n",
       "      <th></th>\n",
       "      <th>APRDRG</th>\n",
       "      <th>COST</th>\n",
       "      <th>LOS</th>\n",
       "    </tr>\n",
       "  </thead>\n",
       "  <tbody>\n",
       "    <tr>\n",
       "      <th>0</th>\n",
       "      <td>21</td>\n",
       "      <td>10002</td>\n",
       "      <td>2</td>\n",
       "    </tr>\n",
       "    <tr>\n",
       "      <th>1</th>\n",
       "      <td>313</td>\n",
       "      <td>8159</td>\n",
       "      <td>1</td>\n",
       "    </tr>\n",
       "    <tr>\n",
       "      <th>4</th>\n",
       "      <td>758</td>\n",
       "      <td>3074</td>\n",
       "      <td>4</td>\n",
       "    </tr>\n",
       "    <tr>\n",
       "      <th>3</th>\n",
       "      <td>753</td>\n",
       "      <td>1534</td>\n",
       "      <td>2</td>\n",
       "    </tr>\n",
       "    <tr>\n",
       "      <th>2</th>\n",
       "      <td>640</td>\n",
       "      <td>1291</td>\n",
       "      <td>2</td>\n",
       "    </tr>\n",
       "  </tbody>\n",
       "</table>\n",
       "</div>"
      ],
      "text/plain": [
       "   APRDRG   COST  LOS\n",
       "0      21  10002    2\n",
       "1     313   8159    1\n",
       "4     758   3074    4\n",
       "3     753   1534    2\n",
       "2     640   1291    2"
      ]
     },
     "execution_count": 27,
     "metadata": {},
     "output_type": "execute_result"
    }
   ],
   "source": [
    "df_race2.groupby(\"APRDRG\", as_index=False)[['COST','LOS']].max().sort_values(\"COST\",ascending=False)"
   ]
  },
  {
   "cell_type": "markdown",
   "id": "a51ec104",
   "metadata": {},
   "source": [
    "#### checking if APRDRG 753 and 758 that raise the mean for race 2.0 have the same cost, cost per day and LOS for races 1.0 and race 3.0 if there were patients with those APRDRG"
   ]
  },
  {
   "cell_type": "code",
   "execution_count": 28,
   "id": "d2ef3103",
   "metadata": {},
   "outputs": [
    {
     "data": {
      "text/html": [
       "<div>\n",
       "<style scoped>\n",
       "    .dataframe tbody tr th:only-of-type {\n",
       "        vertical-align: middle;\n",
       "    }\n",
       "\n",
       "    .dataframe tbody tr th {\n",
       "        vertical-align: top;\n",
       "    }\n",
       "\n",
       "    .dataframe thead th {\n",
       "        text-align: right;\n",
       "    }\n",
       "</style>\n",
       "<table border=\"1\" class=\"dataframe\">\n",
       "  <thead>\n",
       "    <tr style=\"text-align: right;\">\n",
       "      <th></th>\n",
       "      <th>RACE</th>\n",
       "      <th>AGE</th>\n",
       "      <th>GENDER</th>\n",
       "      <th>LOS</th>\n",
       "      <th>COST</th>\n",
       "      <th>APRDRG</th>\n",
       "      <th>Cost_day</th>\n",
       "    </tr>\n",
       "  </thead>\n",
       "  <tbody>\n",
       "    <tr>\n",
       "      <th>0</th>\n",
       "      <td>1.0</td>\n",
       "      <td>17</td>\n",
       "      <td>1</td>\n",
       "      <td>18</td>\n",
       "      <td>11685</td>\n",
       "      <td>758</td>\n",
       "      <td>3800.0</td>\n",
       "    </tr>\n",
       "    <tr>\n",
       "      <th>1</th>\n",
       "      <td>2.0</td>\n",
       "      <td>15</td>\n",
       "      <td>1</td>\n",
       "      <td>4</td>\n",
       "      <td>3074</td>\n",
       "      <td>758</td>\n",
       "      <td>768.5</td>\n",
       "    </tr>\n",
       "  </tbody>\n",
       "</table>\n",
       "</div>"
      ],
      "text/plain": [
       "   RACE  AGE  GENDER  LOS   COST  APRDRG  Cost_day\n",
       "0   1.0   17       1   18  11685     758    3800.0\n",
       "1   2.0   15       1    4   3074     758     768.5"
      ]
     },
     "execution_count": 28,
     "metadata": {},
     "output_type": "execute_result"
    }
   ],
   "source": [
    "df_Diagn=df.loc[(df.APRDRG==753)|(df.APRDRG==758)]\n",
    "df_Diagn=df_Diagn.loc[(df.RACE==1.0)|(df.RACE==2.0)|(df.RACE==3.0)]\n",
    "df_Diagn.groupby('RACE', as_index=False).max()"
   ]
  },
  {
   "cell_type": "code",
   "execution_count": 29,
   "id": "b3267e80",
   "metadata": {},
   "outputs": [
    {
     "data": {
      "text/html": [
       "<div>\n",
       "<style scoped>\n",
       "    .dataframe tbody tr th:only-of-type {\n",
       "        vertical-align: middle;\n",
       "    }\n",
       "\n",
       "    .dataframe tbody tr th {\n",
       "        vertical-align: top;\n",
       "    }\n",
       "\n",
       "    .dataframe thead th {\n",
       "        text-align: right;\n",
       "    }\n",
       "</style>\n",
       "<table border=\"1\" class=\"dataframe\">\n",
       "  <thead>\n",
       "    <tr style=\"text-align: right;\">\n",
       "      <th></th>\n",
       "      <th>COST</th>\n",
       "      <th>APRDRG</th>\n",
       "    </tr>\n",
       "  </thead>\n",
       "  <tbody>\n",
       "    <tr>\n",
       "      <th>count</th>\n",
       "      <td>1.0</td>\n",
       "      <td>1.0</td>\n",
       "    </tr>\n",
       "    <tr>\n",
       "      <th>mean</th>\n",
       "      <td>3041.0</td>\n",
       "      <td>626.0</td>\n",
       "    </tr>\n",
       "    <tr>\n",
       "      <th>std</th>\n",
       "      <td>NaN</td>\n",
       "      <td>NaN</td>\n",
       "    </tr>\n",
       "    <tr>\n",
       "      <th>min</th>\n",
       "      <td>3041.0</td>\n",
       "      <td>626.0</td>\n",
       "    </tr>\n",
       "    <tr>\n",
       "      <th>25%</th>\n",
       "      <td>3041.0</td>\n",
       "      <td>626.0</td>\n",
       "    </tr>\n",
       "    <tr>\n",
       "      <th>50%</th>\n",
       "      <td>3041.0</td>\n",
       "      <td>626.0</td>\n",
       "    </tr>\n",
       "    <tr>\n",
       "      <th>75%</th>\n",
       "      <td>3041.0</td>\n",
       "      <td>626.0</td>\n",
       "    </tr>\n",
       "    <tr>\n",
       "      <th>max</th>\n",
       "      <td>3041.0</td>\n",
       "      <td>626.0</td>\n",
       "    </tr>\n",
       "  </tbody>\n",
       "</table>\n",
       "</div>"
      ],
      "text/plain": [
       "         COST  APRDRG\n",
       "count     1.0     1.0\n",
       "mean   3041.0   626.0\n",
       "std       NaN     NaN\n",
       "min    3041.0   626.0\n",
       "25%    3041.0   626.0\n",
       "50%    3041.0   626.0\n",
       "75%    3041.0   626.0\n",
       "max    3041.0   626.0"
      ]
     },
     "execution_count": 29,
     "metadata": {},
     "output_type": "execute_result"
    }
   ],
   "source": [
    "df_race3=df_race[(df_race.RACE==3.0)]\n",
    "df_race3[['COST','APRDRG']].describe()"
   ]
  },
  {
   "cell_type": "code",
   "execution_count": 30,
   "id": "ff074341",
   "metadata": {},
   "outputs": [
    {
     "data": {
      "text/html": [
       "<div>\n",
       "<style scoped>\n",
       "    .dataframe tbody tr th:only-of-type {\n",
       "        vertical-align: middle;\n",
       "    }\n",
       "\n",
       "    .dataframe tbody tr th {\n",
       "        vertical-align: top;\n",
       "    }\n",
       "\n",
       "    .dataframe thead th {\n",
       "        text-align: right;\n",
       "    }\n",
       "</style>\n",
       "<table border=\"1\" class=\"dataframe\">\n",
       "  <thead>\n",
       "    <tr style=\"text-align: right;\">\n",
       "      <th></th>\n",
       "      <th>APRDRG</th>\n",
       "      <th>COST</th>\n",
       "      <th>LOS</th>\n",
       "    </tr>\n",
       "  </thead>\n",
       "  <tbody>\n",
       "    <tr>\n",
       "      <th>0</th>\n",
       "      <td>626</td>\n",
       "      <td>3041</td>\n",
       "      <td>4</td>\n",
       "    </tr>\n",
       "  </tbody>\n",
       "</table>\n",
       "</div>"
      ],
      "text/plain": [
       "   APRDRG  COST  LOS\n",
       "0     626  3041    4"
      ]
     },
     "execution_count": 30,
     "metadata": {},
     "output_type": "execute_result"
    }
   ],
   "source": [
    "df_race3.groupby(\"APRDRG\", as_index=False)[['COST','LOS']].max().sort_values(\"COST\",ascending=False)"
   ]
  },
  {
   "cell_type": "code",
   "execution_count": 31,
   "id": "55c98bda",
   "metadata": {},
   "outputs": [
    {
     "data": {
      "text/html": [
       "<div>\n",
       "<style scoped>\n",
       "    .dataframe tbody tr th:only-of-type {\n",
       "        vertical-align: middle;\n",
       "    }\n",
       "\n",
       "    .dataframe tbody tr th {\n",
       "        vertical-align: top;\n",
       "    }\n",
       "\n",
       "    .dataframe thead th {\n",
       "        text-align: right;\n",
       "    }\n",
       "</style>\n",
       "<table border=\"1\" class=\"dataframe\">\n",
       "  <thead>\n",
       "    <tr style=\"text-align: right;\">\n",
       "      <th></th>\n",
       "      <th>count</th>\n",
       "      <th>mean</th>\n",
       "      <th>std</th>\n",
       "      <th>min</th>\n",
       "      <th>25%</th>\n",
       "      <th>50%</th>\n",
       "      <th>75%</th>\n",
       "      <th>max</th>\n",
       "    </tr>\n",
       "    <tr>\n",
       "      <th>RACE</th>\n",
       "      <th></th>\n",
       "      <th></th>\n",
       "      <th></th>\n",
       "      <th></th>\n",
       "      <th></th>\n",
       "      <th></th>\n",
       "      <th></th>\n",
       "      <th></th>\n",
       "    </tr>\n",
       "  </thead>\n",
       "  <tbody>\n",
       "    <tr>\n",
       "      <th>1.0</th>\n",
       "      <td>470.0</td>\n",
       "      <td>2805.306383</td>\n",
       "      <td>3974.366698</td>\n",
       "      <td>532.0</td>\n",
       "      <td>1232.25</td>\n",
       "      <td>1540.5</td>\n",
       "      <td>2394.0</td>\n",
       "      <td>48388.0</td>\n",
       "    </tr>\n",
       "  </tbody>\n",
       "</table>\n",
       "</div>"
      ],
      "text/plain": [
       "      count         mean          std    min      25%     50%     75%      max\n",
       "RACE                                                                          \n",
       "1.0   470.0  2805.306383  3974.366698  532.0  1232.25  1540.5  2394.0  48388.0"
      ]
     },
     "execution_count": 31,
     "metadata": {},
     "output_type": "execute_result"
    }
   ],
   "source": [
    "df.groupby([\"RACE\"]).describe()[\"COST\"][0:1]"
   ]
  },
  {
   "cell_type": "code",
   "execution_count": 32,
   "id": "6a9f9040",
   "metadata": {},
   "outputs": [
    {
     "data": {
      "text/html": [
       "<div>\n",
       "<style scoped>\n",
       "    .dataframe tbody tr th:only-of-type {\n",
       "        vertical-align: middle;\n",
       "    }\n",
       "\n",
       "    .dataframe tbody tr th {\n",
       "        vertical-align: top;\n",
       "    }\n",
       "\n",
       "    .dataframe thead th {\n",
       "        text-align: right;\n",
       "    }\n",
       "</style>\n",
       "<table border=\"1\" class=\"dataframe\">\n",
       "  <thead>\n",
       "    <tr style=\"text-align: right;\">\n",
       "      <th></th>\n",
       "      <th>APRDRG</th>\n",
       "      <th>COST</th>\n",
       "      <th>LOS</th>\n",
       "    </tr>\n",
       "  </thead>\n",
       "  <tbody>\n",
       "    <tr>\n",
       "      <th>56</th>\n",
       "      <td>911</td>\n",
       "      <td>48388</td>\n",
       "      <td>7</td>\n",
       "    </tr>\n",
       "    <tr>\n",
       "      <th>32</th>\n",
       "      <td>602</td>\n",
       "      <td>29188</td>\n",
       "      <td>41</td>\n",
       "    </tr>\n",
       "    <tr>\n",
       "      <th>25</th>\n",
       "      <td>421</td>\n",
       "      <td>26356</td>\n",
       "      <td>39</td>\n",
       "    </tr>\n",
       "    <tr>\n",
       "      <th>1</th>\n",
       "      <td>49</td>\n",
       "      <td>20195</td>\n",
       "      <td>6</td>\n",
       "    </tr>\n",
       "    <tr>\n",
       "      <th>57</th>\n",
       "      <td>930</td>\n",
       "      <td>20060</td>\n",
       "      <td>7</td>\n",
       "    </tr>\n",
       "    <tr>\n",
       "      <th>21</th>\n",
       "      <td>317</td>\n",
       "      <td>17524</td>\n",
       "      <td>7</td>\n",
       "    </tr>\n",
       "    <tr>\n",
       "      <th>11</th>\n",
       "      <td>115</td>\n",
       "      <td>17434</td>\n",
       "      <td>6</td>\n",
       "    </tr>\n",
       "    <tr>\n",
       "      <th>18</th>\n",
       "      <td>225</td>\n",
       "      <td>16520</td>\n",
       "      <td>9</td>\n",
       "    </tr>\n",
       "    <tr>\n",
       "      <th>12</th>\n",
       "      <td>137</td>\n",
       "      <td>15129</td>\n",
       "      <td>12</td>\n",
       "    </tr>\n",
       "    <tr>\n",
       "      <th>41</th>\n",
       "      <td>720</td>\n",
       "      <td>14243</td>\n",
       "      <td>5</td>\n",
       "    </tr>\n",
       "    <tr>\n",
       "      <th>0</th>\n",
       "      <td>23</td>\n",
       "      <td>14174</td>\n",
       "      <td>2</td>\n",
       "    </tr>\n",
       "    <tr>\n",
       "      <th>33</th>\n",
       "      <td>614</td>\n",
       "      <td>13112</td>\n",
       "      <td>23</td>\n",
       "    </tr>\n",
       "    <tr>\n",
       "      <th>55</th>\n",
       "      <td>863</td>\n",
       "      <td>13040</td>\n",
       "      <td>24</td>\n",
       "    </tr>\n",
       "    <tr>\n",
       "      <th>35</th>\n",
       "      <td>633</td>\n",
       "      <td>12042</td>\n",
       "      <td>17</td>\n",
       "    </tr>\n",
       "    <tr>\n",
       "      <th>8</th>\n",
       "      <td>92</td>\n",
       "      <td>12024</td>\n",
       "      <td>1</td>\n",
       "    </tr>\n",
       "    <tr>\n",
       "      <th>22</th>\n",
       "      <td>344</td>\n",
       "      <td>11877</td>\n",
       "      <td>5</td>\n",
       "    </tr>\n",
       "  </tbody>\n",
       "</table>\n",
       "</div>"
      ],
      "text/plain": [
       "    APRDRG   COST  LOS\n",
       "56     911  48388    7\n",
       "32     602  29188   41\n",
       "25     421  26356   39\n",
       "1       49  20195    6\n",
       "57     930  20060    7\n",
       "21     317  17524    7\n",
       "11     115  17434    6\n",
       "18     225  16520    9\n",
       "12     137  15129   12\n",
       "41     720  14243    5\n",
       "0       23  14174    2\n",
       "33     614  13112   23\n",
       "55     863  13040   24\n",
       "35     633  12042   17\n",
       "8       92  12024    1\n",
       "22     344  11877    5"
      ]
     },
     "execution_count": 32,
     "metadata": {},
     "output_type": "execute_result"
    }
   ],
   "source": [
    "df_race1=df[(df.RACE==1.0)]\n",
    "df_race1.groupby(\"APRDRG\", as_index=False)[['COST','LOS']].max().sort_values(\"COST\",ascending=False)[0:16]"
   ]
  },
  {
   "cell_type": "markdown",
   "id": "75045cc9",
   "metadata": {},
   "source": [
    "There are many outliers of RACE 1.0 since diagnosis groups are among the most expensive ones requiring a longer LOS; however mean is almost as overall mean. RACE 2.0 has 2 outliers and has a very high mean. t appears that for APRDRG 758 the costs are higher for race 2.0 than for race 1.0. Recommended investigation."
   ]
  },
  {
   "cell_type": "markdown",
   "id": "43945591",
   "metadata": {},
   "source": [
    "### Task 3:\n",
    "#### To make sure that there is no malpractice, the agency needs to analyze if the race of the patient is related to the hospitalization costs.\n",
    "### Result:\n",
    "#### RACE 2.0 has higher mean of COST than other races and is also considerably higher than overall mean of COST. Thus, RACE 2.0 people might be unjustly treated and hospital should look into this matter."
   ]
  },
  {
   "cell_type": "markdown",
   "id": "f589d140",
   "metadata": {},
   "source": [
    "### analyzing the severity of the hospital costs by age and gender"
   ]
  },
  {
   "cell_type": "code",
   "execution_count": 33,
   "id": "0e154804",
   "metadata": {},
   "outputs": [
    {
     "data": {
      "text/plain": [
       "<AxesSubplot:xlabel='GENDER', ylabel='COST'>"
      ]
     },
     "execution_count": 33,
     "metadata": {},
     "output_type": "execute_result"
    },
    {
     "data": {
      "image/png": "[encoded data removed]",
      "text/plain": [
       "<Figure size 432x288 with 1 Axes>"
      ]
     },
     "metadata": {},
     "output_type": "display_data"
    }
   ],
   "source": [
    "sns.barplot(data=df, x=\"GENDER\", y=\"COST\")"
   ]
  },
  {
   "cell_type": "code",
   "execution_count": 34,
   "id": "ed0090a4",
   "metadata": {},
   "outputs": [
    {
     "data": {
      "text/html": [
       "<div>\n",
       "<style scoped>\n",
       "    .dataframe tbody tr th:only-of-type {\n",
       "        vertical-align: middle;\n",
       "    }\n",
       "\n",
       "    .dataframe tbody tr th {\n",
       "        vertical-align: top;\n",
       "    }\n",
       "\n",
       "    .dataframe thead th {\n",
       "        text-align: right;\n",
       "    }\n",
       "</style>\n",
       "<table border=\"1\" class=\"dataframe\">\n",
       "  <thead>\n",
       "    <tr style=\"text-align: right;\">\n",
       "      <th></th>\n",
       "      <th>count</th>\n",
       "      <th>mean</th>\n",
       "      <th>std</th>\n",
       "      <th>min</th>\n",
       "      <th>25%</th>\n",
       "      <th>50%</th>\n",
       "      <th>75%</th>\n",
       "      <th>max</th>\n",
       "    </tr>\n",
       "    <tr>\n",
       "      <th>GENDER</th>\n",
       "      <th></th>\n",
       "      <th></th>\n",
       "      <th></th>\n",
       "      <th></th>\n",
       "      <th></th>\n",
       "      <th></th>\n",
       "      <th></th>\n",
       "      <th></th>\n",
       "    </tr>\n",
       "  </thead>\n",
       "  <tbody>\n",
       "    <tr>\n",
       "      <th>0</th>\n",
       "      <td>236.0</td>\n",
       "      <td>3061.944915</td>\n",
       "      <td>3594.449765</td>\n",
       "      <td>550.0</td>\n",
       "      <td>1290.75</td>\n",
       "      <td>1671.5</td>\n",
       "      <td>2841.25</td>\n",
       "      <td>26356.0</td>\n",
       "    </tr>\n",
       "    <tr>\n",
       "      <th>1</th>\n",
       "      <td>249.0</td>\n",
       "      <td>2572.216867</td>\n",
       "      <td>4232.872371</td>\n",
       "      <td>532.0</td>\n",
       "      <td>1156.00</td>\n",
       "      <td>1436.0</td>\n",
       "      <td>2238.00</td>\n",
       "      <td>48388.0</td>\n",
       "    </tr>\n",
       "  </tbody>\n",
       "</table>\n",
       "</div>"
      ],
      "text/plain": [
       "        count         mean          std    min      25%     50%      75%  \\\n",
       "GENDER                                                                     \n",
       "0       236.0  3061.944915  3594.449765  550.0  1290.75  1671.5  2841.25   \n",
       "1       249.0  2572.216867  4232.872371  532.0  1156.00  1436.0  2238.00   \n",
       "\n",
       "            max  \n",
       "GENDER           \n",
       "0       26356.0  \n",
       "1       48388.0  "
      ]
     },
     "execution_count": 34,
     "metadata": {},
     "output_type": "execute_result"
    }
   ],
   "source": [
    "df.groupby([\"GENDER\"]).describe()[\"COST\"]"
   ]
  },
  {
   "cell_type": "code",
   "execution_count": 35,
   "id": "192edf85",
   "metadata": {},
   "outputs": [
    {
     "data": {
      "text/plain": [
       "<AxesSubplot:xlabel='AGE', ylabel='COST'>"
      ]
     },
     "execution_count": 35,
     "metadata": {},
     "output_type": "execute_result"
    },
    {
     "data": {
      "image/png": "[encoded data removed]",
      "text/plain": [
       "<Figure size 1296x720 with 1 Axes>"
      ]
     },
     "metadata": {},
     "output_type": "display_data"
    }
   ],
   "source": [
    "plt.figure(figsize=(18,10))\n",
    "sns.barplot(data=df, x=\"AGE\", y=\"COST\", hue=\"GENDER\")"
   ]
  },
  {
   "cell_type": "markdown",
   "id": "fca49071",
   "metadata": {},
   "source": [
    "### Task 4:\n",
    "#### To properly utilize the costs, the agency has to analyze the severity of the hospital costs by age and gender for proper allocation of resources.\n",
    "### Resut:\n",
    "#### The cost for men is larger for all ages except 5, 11,12,13 and 17."
   ]
  },
  {
   "cell_type": "markdown",
   "id": "92d521d0",
   "metadata": {},
   "source": [
    "###  finding if the length of stay can be predicted from age, gender, and race."
   ]
  },
  {
   "cell_type": "code",
   "execution_count": 36,
   "id": "a9011af3",
   "metadata": {},
   "outputs": [
    {
     "data": {
      "text/plain": [
       "<AxesSubplot:xlabel='AGE', ylabel='LOS'>"
      ]
     },
     "execution_count": 36,
     "metadata": {},
     "output_type": "execute_result"
    },
    {
     "data": {
      "image/png": "[encoded data removed]",
      "text/plain": [
       "<Figure size 864x576 with 1 Axes>"
      ]
     },
     "metadata": {},
     "output_type": "display_data"
    }
   ],
   "source": [
    "plt.figure(figsize=(12,8))\n",
    "sns.regplot(data=df, x=\"AGE\", y=\"LOS\")"
   ]
  },
  {
   "cell_type": "code",
   "execution_count": 37,
   "id": "b64a055c",
   "metadata": {},
   "outputs": [
    {
     "data": {
      "text/plain": [
       "-0.049812573389842005"
      ]
     },
     "execution_count": 37,
     "metadata": {},
     "output_type": "execute_result"
    }
   ],
   "source": [
    "df.AGE.corr(df.LOS)"
   ]
  },
  {
   "cell_type": "code",
   "execution_count": 38,
   "id": "bd200175",
   "metadata": {},
   "outputs": [
    {
     "data": {
      "text/plain": [
       "<AxesSubplot:xlabel='GENDER', ylabel='LOS'>"
      ]
     },
     "execution_count": 38,
     "metadata": {},
     "output_type": "execute_result"
    },
    {
     "data": {
      "image/png": "[encoded data removed]",
      "text/plain": [
       "<Figure size 864x576 with 1 Axes>"
      ]
     },
     "metadata": {},
     "output_type": "display_data"
    }
   ],
   "source": [
    "plt.figure(figsize=(12,8))\n",
    "sns.regplot(data=df, x=\"GENDER\", y=\"LOS\")"
   ]
  },
  {
   "cell_type": "code",
   "execution_count": 39,
   "id": "4e84ac7b",
   "metadata": {},
   "outputs": [
    {
     "data": {
      "text/plain": [
       "0.03429337296271203"
      ]
     },
     "execution_count": 39,
     "metadata": {},
     "output_type": "execute_result"
    }
   ],
   "source": [
    "df.GENDER.corr(df.LOS)"
   ]
  },
  {
   "cell_type": "code",
   "execution_count": 40,
   "id": "74125d33",
   "metadata": {},
   "outputs": [
    {
     "data": {
      "text/plain": [
       "<AxesSubplot:xlabel='RACE', ylabel='LOS'>"
      ]
     },
     "execution_count": 40,
     "metadata": {},
     "output_type": "execute_result"
    },
    {
     "data": {
      "image/png": "[encoded data removed]",
      "text/plain": [
       "<Figure size 864x576 with 1 Axes>"
      ]
     },
     "metadata": {},
     "output_type": "display_data"
    }
   ],
   "source": [
    "plt.figure(figsize=(12,8))\n",
    "sns.regplot(data=df, x=\"RACE\", y=\"LOS\", ci=None)"
   ]
  },
  {
   "cell_type": "code",
   "execution_count": 41,
   "id": "8d8b981a",
   "metadata": {},
   "outputs": [
    {
     "data": {
      "text/plain": [
       "-0.008863618307508961"
      ]
     },
     "execution_count": 41,
     "metadata": {},
     "output_type": "execute_result"
    }
   ],
   "source": [
    "df.RACE.corr(df.LOS)"
   ]
  },
  {
   "cell_type": "markdown",
   "id": "ec6a3728",
   "metadata": {},
   "source": [
    "### Task 5:\n",
    "#### Since the length of stay is the crucial factor for inpatients, the agency wants to find if the length of stay can be predicted from age, gender, and race.\n",
    "### Result:\n",
    "#### Since, regression plot for AGE,GENDER and RACE are almost straight line parallel to x axis, there is no correlation between LOS and AGE,GENDER and RACE."
   ]
  },
  {
   "cell_type": "markdown",
   "id": "4979ee17",
   "metadata": {},
   "source": [
    "### finding the variable that mainly affects the hospital costs."
   ]
  },
  {
   "cell_type": "code",
   "execution_count": 42,
   "id": "f2e6474f",
   "metadata": {},
   "outputs": [
    {
     "data": {
      "image/png": "[encoded data removed]",
      "text/plain": [
       "<Figure size 1440x720 with 2 Axes>"
      ]
     },
     "metadata": {},
     "output_type": "display_data"
    }
   ],
   "source": [
    "# Generating the correlation heat-map\n",
    "corrmat=df.corr()\n",
    "top_corr_features=corrmat.index\n",
    "plt.figure(figsize=(20,10))\n",
    "sns.heatmap( df[top_corr_features].corr(),annot=True,cmap=\"RdYlGn\");"
   ]
  },
  {
   "cell_type": "code",
   "execution_count": 43,
   "id": "8ed0e471",
   "metadata": {},
   "outputs": [
    {
     "data": {
      "text/plain": [
       "0.6237080026814509"
      ]
     },
     "execution_count": 43,
     "metadata": {},
     "output_type": "execute_result"
    }
   ],
   "source": [
    "df.LOS.corr(df.COST)"
   ]
  },
  {
   "cell_type": "code",
   "execution_count": 44,
   "id": "59c3490b",
   "metadata": {},
   "outputs": [
    {
     "data": {
      "text/plain": [
       "<AxesSubplot:xlabel='LOS', ylabel='COST'>"
      ]
     },
     "execution_count": 44,
     "metadata": {},
     "output_type": "execute_result"
    },
    {
     "data": {
      "image/png": "[encoded data removed]",
      "text/plain": [
       "<Figure size 432x288 with 1 Axes>"
      ]
     },
     "metadata": {},
     "output_type": "display_data"
    }
   ],
   "source": [
    "sns.regplot(data=df, x=\"LOS\", y=\"COST\", ci=None)"
   ]
  },
  {
   "cell_type": "code",
   "execution_count": 45,
   "id": "7896ff8f",
   "metadata": {},
   "outputs": [
    {
     "data": {
      "text/plain": [
       "<AxesSubplot:xlabel='GENDER', ylabel='COST'>"
      ]
     },
     "execution_count": 45,
     "metadata": {},
     "output_type": "execute_result"
    },
    {
     "data": {
      "image/png": "[encoded data removed]",
      "text/plain": [
       "<Figure size 864x576 with 1 Axes>"
      ]
     },
     "metadata": {},
     "output_type": "display_data"
    }
   ],
   "source": [
    "plt.figure(figsize=(12, 8))\n",
    "sns.regplot(data=df, x=\"GENDER\", y=\"COST\", ci=None)"
   ]
  },
  {
   "cell_type": "code",
   "execution_count": 46,
   "id": "a4909fc9",
   "metadata": {},
   "outputs": [
    {
     "data": {
      "text/plain": [
       "-0.062209422093673326"
      ]
     },
     "execution_count": 46,
     "metadata": {},
     "output_type": "execute_result"
    }
   ],
   "source": [
    "df.GENDER.corr(df.COST)"
   ]
  },
  {
   "cell_type": "code",
   "execution_count": 47,
   "id": "27b517a8",
   "metadata": {},
   "outputs": [
    {
     "data": {
      "text/plain": [
       "-0.337549683192314"
      ]
     },
     "execution_count": 47,
     "metadata": {},
     "output_type": "execute_result"
    }
   ],
   "source": [
    "df.APRDRG.corr(df.COST)"
   ]
  },
  {
   "cell_type": "code",
   "execution_count": 48,
   "id": "03e94b06",
   "metadata": {},
   "outputs": [
    {
     "data": {
      "text/plain": [
       "<AxesSubplot:xlabel='APRDRG', ylabel='COST'>"
      ]
     },
     "execution_count": 48,
     "metadata": {},
     "output_type": "execute_result"
    },
    {
     "data": {
      "image/png": "[encoded data removed]",
      "text/plain": [
       "<Figure size 864x576 with 1 Axes>"
      ]
     },
     "metadata": {},
     "output_type": "display_data"
    }
   ],
   "source": [
    "plt.figure(figsize=(12, 8))\n",
    "sns.regplot(data=df, x=\"APRDRG\", y=\"COST\", ci=None)"
   ]
  },
  {
   "cell_type": "markdown",
   "id": "0dc2d72e",
   "metadata": {},
   "source": [
    "### Task 6:\n",
    "#### To perform a complete analysis, the agency wants to find the variable that mainly affects the hospital costs.\n",
    "### Result:\n",
    "#### We can easily see that the two factors that affect COST the most is LOS with correlation 0.6237; GENDER has the second highest correlation to cost, which is -0.06220."
   ]
  },
  {
   "cell_type": "code",
   "execution_count": null,
   "id": "13a693d6",
   "metadata": {},
   "outputs": [],
   "source": []
  },
  {
   "cell_type": "code",
   "execution_count": null,
   "id": "299135e9",
   "metadata": {},
   "outputs": [],
   "source": []
  }
 ],
 "metadata": {
  "kernelspec": {
   "display_name": "Python 3 (ipykernel)",
   "language": "python",
   "name": "python3"
  },
  "language_info": {
   "codemirror_mode": {
    "name": "ipython",
    "version": 3
   },
   "file_extension": ".py",
   "mimetype": "text/x-python",
   "name": "python",
   "nbconvert_exporter": "python",
   "pygments_lexer": "ipython3",
   "version": "3.9.7"
  }
 },
 "nbformat": 4,
 "nbformat_minor": 5
}
