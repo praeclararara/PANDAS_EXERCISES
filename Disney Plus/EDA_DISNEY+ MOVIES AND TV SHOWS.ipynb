{
 "cells": [
  {
   "cell_type": "markdown",
   "id": "e1e4c1fc",
   "metadata": {},
   "source": [
    "importing the libraries"
   ]
  },
  {
   "cell_type": "code",
   "execution_count": 1,
   "id": "6275add5",
   "metadata": {},
   "outputs": [],
   "source": [
    "import pandas as pd\n",
    "import numpy as np\n",
    "import matplotlib.pyplot as plt\n",
    "import seaborn as sns\n",
    "%matplotlib inline\n",
    "import matplotlib"
   ]
  },
  {
   "cell_type": "markdown",
   "id": "033064a4",
   "metadata": {},
   "source": [
    "importing the dataset\n",
    "Source: https://www.kaggle.com/datasets/shivamb/disney-movies-and-tv-shows"
   ]
  },
  {
   "cell_type": "code",
   "execution_count": 2,
   "id": "92fbad1c",
   "metadata": {},
   "outputs": [
    {
     "data": {
      "text/html": [
       "<div>\n",
       "<style scoped>\n",
       "    .dataframe tbody tr th:only-of-type {\n",
       "        vertical-align: middle;\n",
       "    }\n",
       "\n",
       "    .dataframe tbody tr th {\n",
       "        vertical-align: top;\n",
       "    }\n",
       "\n",
       "    .dataframe thead th {\n",
       "        text-align: right;\n",
       "    }\n",
       "</style>\n",
       "<table border=\"1\" class=\"dataframe\">\n",
       "  <thead>\n",
       "    <tr style=\"text-align: right;\">\n",
       "      <th></th>\n",
       "      <th>show_id</th>\n",
       "      <th>type</th>\n",
       "      <th>title</th>\n",
       "      <th>director</th>\n",
       "      <th>cast</th>\n",
       "      <th>country</th>\n",
       "      <th>date_added</th>\n",
       "      <th>release_year</th>\n",
       "      <th>rating</th>\n",
       "      <th>duration</th>\n",
       "      <th>listed_in</th>\n",
       "      <th>description</th>\n",
       "    </tr>\n",
       "  </thead>\n",
       "  <tbody>\n",
       "    <tr>\n",
       "      <th>0</th>\n",
       "      <td>s1</td>\n",
       "      <td>Movie</td>\n",
       "      <td>Duck the Halls: A Mickey Mouse Christmas Special</td>\n",
       "      <td>Alonso Ramirez Ramos, Dave Wasson</td>\n",
       "      <td>Chris Diamantopoulos, Tony Anselmo, Tress MacN...</td>\n",
       "      <td>NaN</td>\n",
       "      <td>November 26, 2021</td>\n",
       "      <td>2016</td>\n",
       "      <td>TV-G</td>\n",
       "      <td>23 min</td>\n",
       "      <td>Animation, Family</td>\n",
       "      <td>Join Mickey and the gang as they duck the halls!</td>\n",
       "    </tr>\n",
       "    <tr>\n",
       "      <th>1</th>\n",
       "      <td>s2</td>\n",
       "      <td>Movie</td>\n",
       "      <td>Ernest Saves Christmas</td>\n",
       "      <td>John Cherry</td>\n",
       "      <td>Jim Varney, Noelle Parker, Douglas Seale</td>\n",
       "      <td>NaN</td>\n",
       "      <td>November 26, 2021</td>\n",
       "      <td>1988</td>\n",
       "      <td>PG</td>\n",
       "      <td>91 min</td>\n",
       "      <td>Comedy</td>\n",
       "      <td>Santa Claus passes his magic bag to a new St. ...</td>\n",
       "    </tr>\n",
       "    <tr>\n",
       "      <th>2</th>\n",
       "      <td>s3</td>\n",
       "      <td>Movie</td>\n",
       "      <td>Ice Age: A Mammoth Christmas</td>\n",
       "      <td>Karen Disher</td>\n",
       "      <td>Raymond Albert Romano, John Leguizamo, Denis L...</td>\n",
       "      <td>United States</td>\n",
       "      <td>November 26, 2021</td>\n",
       "      <td>2011</td>\n",
       "      <td>TV-G</td>\n",
       "      <td>23 min</td>\n",
       "      <td>Animation, Comedy, Family</td>\n",
       "      <td>Sid the Sloth is on Santa's naughty list.</td>\n",
       "    </tr>\n",
       "    <tr>\n",
       "      <th>3</th>\n",
       "      <td>s4</td>\n",
       "      <td>Movie</td>\n",
       "      <td>The Queen Family Singalong</td>\n",
       "      <td>Hamish Hamilton</td>\n",
       "      <td>Darren Criss, Adam Lambert, Derek Hough, Alexa...</td>\n",
       "      <td>NaN</td>\n",
       "      <td>November 26, 2021</td>\n",
       "      <td>2021</td>\n",
       "      <td>TV-PG</td>\n",
       "      <td>41 min</td>\n",
       "      <td>Musical</td>\n",
       "      <td>This is real life, not just fantasy!</td>\n",
       "    </tr>\n",
       "    <tr>\n",
       "      <th>4</th>\n",
       "      <td>s5</td>\n",
       "      <td>TV Show</td>\n",
       "      <td>The Beatles: Get Back</td>\n",
       "      <td>NaN</td>\n",
       "      <td>John Lennon, Paul McCartney, George Harrison, ...</td>\n",
       "      <td>NaN</td>\n",
       "      <td>November 25, 2021</td>\n",
       "      <td>2021</td>\n",
       "      <td>NaN</td>\n",
       "      <td>1 Season</td>\n",
       "      <td>Docuseries, Historical, Music</td>\n",
       "      <td>A three-part documentary from Peter Jackson ca...</td>\n",
       "    </tr>\n",
       "  </tbody>\n",
       "</table>\n",
       "</div>"
      ],
      "text/plain": [
       "  show_id     type                                             title  \\\n",
       "0      s1    Movie  Duck the Halls: A Mickey Mouse Christmas Special   \n",
       "1      s2    Movie                            Ernest Saves Christmas   \n",
       "2      s3    Movie                      Ice Age: A Mammoth Christmas   \n",
       "3      s4    Movie                        The Queen Family Singalong   \n",
       "4      s5  TV Show                             The Beatles: Get Back   \n",
       "\n",
       "                            director  \\\n",
       "0  Alonso Ramirez Ramos, Dave Wasson   \n",
       "1                        John Cherry   \n",
       "2                       Karen Disher   \n",
       "3                    Hamish Hamilton   \n",
       "4                                NaN   \n",
       "\n",
       "                                                cast        country  \\\n",
       "0  Chris Diamantopoulos, Tony Anselmo, Tress MacN...            NaN   \n",
       "1           Jim Varney, Noelle Parker, Douglas Seale            NaN   \n",
       "2  Raymond Albert Romano, John Leguizamo, Denis L...  United States   \n",
       "3  Darren Criss, Adam Lambert, Derek Hough, Alexa...            NaN   \n",
       "4  John Lennon, Paul McCartney, George Harrison, ...            NaN   \n",
       "\n",
       "          date_added  release_year rating  duration  \\\n",
       "0  November 26, 2021          2016   TV-G    23 min   \n",
       "1  November 26, 2021          1988     PG    91 min   \n",
       "2  November 26, 2021          2011   TV-G    23 min   \n",
       "3  November 26, 2021          2021  TV-PG    41 min   \n",
       "4  November 25, 2021          2021    NaN  1 Season   \n",
       "\n",
       "                       listed_in  \\\n",
       "0              Animation, Family   \n",
       "1                         Comedy   \n",
       "2      Animation, Comedy, Family   \n",
       "3                        Musical   \n",
       "4  Docuseries, Historical, Music   \n",
       "\n",
       "                                         description  \n",
       "0   Join Mickey and the gang as they duck the halls!  \n",
       "1  Santa Claus passes his magic bag to a new St. ...  \n",
       "2          Sid the Sloth is on Santa's naughty list.  \n",
       "3               This is real life, not just fantasy!  \n",
       "4  A three-part documentary from Peter Jackson ca...  "
      ]
     },
     "execution_count": 2,
     "metadata": {},
     "output_type": "execute_result"
    }
   ],
   "source": [
    "disney_df = pd.read_csv('disney_plus_titles.csv')\n",
    "disney_df.head()"
   ]
  },
  {
   "cell_type": "code",
   "execution_count": 3,
   "id": "9bc5f85e",
   "metadata": {},
   "outputs": [
    {
     "name": "stdout",
     "output_type": "stream",
     "text": [
      "<class 'pandas.core.frame.DataFrame'>\n",
      "RangeIndex: 1450 entries, 0 to 1449\n",
      "Data columns (total 12 columns):\n",
      " #   Column        Non-Null Count  Dtype \n",
      "---  ------        --------------  ----- \n",
      " 0   show_id       1450 non-null   object\n",
      " 1   type          1450 non-null   object\n",
      " 2   title         1450 non-null   object\n",
      " 3   director      977 non-null    object\n",
      " 4   cast          1260 non-null   object\n",
      " 5   country       1231 non-null   object\n",
      " 6   date_added    1447 non-null   object\n",
      " 7   release_year  1450 non-null   int64 \n",
      " 8   rating        1447 non-null   object\n",
      " 9   duration      1450 non-null   object\n",
      " 10  listed_in     1450 non-null   object\n",
      " 11  description   1450 non-null   object\n",
      "dtypes: int64(1), object(11)\n",
      "memory usage: 136.1+ KB\n"
     ]
    }
   ],
   "source": [
    "disney_df.info()"
   ]
  },
  {
   "cell_type": "code",
   "execution_count": 4,
   "id": "a11320ba",
   "metadata": {},
   "outputs": [
    {
     "name": "stdout",
     "output_type": "stream",
     "text": [
      "director null rate: 32.62%\n",
      "cast null rate: 13.1%\n",
      "country null rate: 15.1%\n",
      "date_added null rate: 0.21%\n",
      "rating null rate: 0.21%\n"
     ]
    }
   ],
   "source": [
    "# missing values\n",
    "for i in disney_df.columns:\n",
    "    null_rate = disney_df[i].isna().sum() / len(disney_df) * 100 \n",
    "    if null_rate > 0 :\n",
    "        print(\"{} null rate: {}%\".format(i,round(null_rate,2)))"
   ]
  },
  {
   "cell_type": "markdown",
   "id": "be0ff6e5",
   "metadata": {},
   "source": [
    "5 columns have missing values, with Director missing 1/3 of the time"
   ]
  },
  {
   "cell_type": "markdown",
   "id": "68d6dc35",
   "metadata": {},
   "source": [
    "### Transforming datatype, adding columns"
   ]
  },
  {
   "cell_type": "code",
   "execution_count": 5,
   "id": "54ae64a8",
   "metadata": {},
   "outputs": [],
   "source": [
    "# Transforming date_added column into datetime\n",
    "disney_df[\"date_added\"] = pd.to_datetime(disney_df[\"date_added\"])"
   ]
  },
  {
   "cell_type": "code",
   "execution_count": 6,
   "id": "1c6a3d45",
   "metadata": {},
   "outputs": [],
   "source": [
    "#adding column 'season' from column 'duration' if string \"min\" is not in the row\n",
    "disney_df['season'] = disney_df.apply(lambda x : x['duration'].split(\" \")[0] if \"min\" not in x['duration'] else \"0\", axis = 1)\n",
    "#adding column 'duration_min' from column 'duration' if string \"min\" is in the row\n",
    "disney_df['duration_min'] = disney_df.apply(lambda x : x['duration'].split(\" \")[0] if \"min\" in x['duration'] else \"0\", axis = 1)"
   ]
  },
  {
   "cell_type": "code",
   "execution_count": 7,
   "id": "9ba3e2f5",
   "metadata": {},
   "outputs": [
    {
     "data": {
      "text/html": [
       "<div>\n",
       "<style scoped>\n",
       "    .dataframe tbody tr th:only-of-type {\n",
       "        vertical-align: middle;\n",
       "    }\n",
       "\n",
       "    .dataframe tbody tr th {\n",
       "        vertical-align: top;\n",
       "    }\n",
       "\n",
       "    .dataframe thead th {\n",
       "        text-align: right;\n",
       "    }\n",
       "</style>\n",
       "<table border=\"1\" class=\"dataframe\">\n",
       "  <thead>\n",
       "    <tr style=\"text-align: right;\">\n",
       "      <th></th>\n",
       "      <th>show_id</th>\n",
       "      <th>type</th>\n",
       "      <th>title</th>\n",
       "      <th>director</th>\n",
       "      <th>cast</th>\n",
       "      <th>country</th>\n",
       "      <th>date_added</th>\n",
       "      <th>release_year</th>\n",
       "      <th>rating</th>\n",
       "      <th>duration</th>\n",
       "      <th>listed_in</th>\n",
       "      <th>description</th>\n",
       "      <th>season</th>\n",
       "      <th>duration_min</th>\n",
       "    </tr>\n",
       "  </thead>\n",
       "  <tbody>\n",
       "    <tr>\n",
       "      <th>0</th>\n",
       "      <td>s1</td>\n",
       "      <td>Movie</td>\n",
       "      <td>Duck the Halls: A Mickey Mouse Christmas Special</td>\n",
       "      <td>Alonso Ramirez Ramos, Dave Wasson</td>\n",
       "      <td>Chris Diamantopoulos, Tony Anselmo, Tress MacN...</td>\n",
       "      <td>NaN</td>\n",
       "      <td>2021-11-26</td>\n",
       "      <td>2016</td>\n",
       "      <td>TV-G</td>\n",
       "      <td>23 min</td>\n",
       "      <td>Animation, Family</td>\n",
       "      <td>Join Mickey and the gang as they duck the halls!</td>\n",
       "      <td>0</td>\n",
       "      <td>23</td>\n",
       "    </tr>\n",
       "    <tr>\n",
       "      <th>1</th>\n",
       "      <td>s2</td>\n",
       "      <td>Movie</td>\n",
       "      <td>Ernest Saves Christmas</td>\n",
       "      <td>John Cherry</td>\n",
       "      <td>Jim Varney, Noelle Parker, Douglas Seale</td>\n",
       "      <td>NaN</td>\n",
       "      <td>2021-11-26</td>\n",
       "      <td>1988</td>\n",
       "      <td>PG</td>\n",
       "      <td>91 min</td>\n",
       "      <td>Comedy</td>\n",
       "      <td>Santa Claus passes his magic bag to a new St. ...</td>\n",
       "      <td>0</td>\n",
       "      <td>91</td>\n",
       "    </tr>\n",
       "    <tr>\n",
       "      <th>2</th>\n",
       "      <td>s3</td>\n",
       "      <td>Movie</td>\n",
       "      <td>Ice Age: A Mammoth Christmas</td>\n",
       "      <td>Karen Disher</td>\n",
       "      <td>Raymond Albert Romano, John Leguizamo, Denis L...</td>\n",
       "      <td>United States</td>\n",
       "      <td>2021-11-26</td>\n",
       "      <td>2011</td>\n",
       "      <td>TV-G</td>\n",
       "      <td>23 min</td>\n",
       "      <td>Animation, Comedy, Family</td>\n",
       "      <td>Sid the Sloth is on Santa's naughty list.</td>\n",
       "      <td>0</td>\n",
       "      <td>23</td>\n",
       "    </tr>\n",
       "    <tr>\n",
       "      <th>3</th>\n",
       "      <td>s4</td>\n",
       "      <td>Movie</td>\n",
       "      <td>The Queen Family Singalong</td>\n",
       "      <td>Hamish Hamilton</td>\n",
       "      <td>Darren Criss, Adam Lambert, Derek Hough, Alexa...</td>\n",
       "      <td>NaN</td>\n",
       "      <td>2021-11-26</td>\n",
       "      <td>2021</td>\n",
       "      <td>TV-PG</td>\n",
       "      <td>41 min</td>\n",
       "      <td>Musical</td>\n",
       "      <td>This is real life, not just fantasy!</td>\n",
       "      <td>0</td>\n",
       "      <td>41</td>\n",
       "    </tr>\n",
       "    <tr>\n",
       "      <th>4</th>\n",
       "      <td>s5</td>\n",
       "      <td>TV Show</td>\n",
       "      <td>The Beatles: Get Back</td>\n",
       "      <td>NaN</td>\n",
       "      <td>John Lennon, Paul McCartney, George Harrison, ...</td>\n",
       "      <td>NaN</td>\n",
       "      <td>2021-11-25</td>\n",
       "      <td>2021</td>\n",
       "      <td>NaN</td>\n",
       "      <td>1 Season</td>\n",
       "      <td>Docuseries, Historical, Music</td>\n",
       "      <td>A three-part documentary from Peter Jackson ca...</td>\n",
       "      <td>1</td>\n",
       "      <td>0</td>\n",
       "    </tr>\n",
       "  </tbody>\n",
       "</table>\n",
       "</div>"
      ],
      "text/plain": [
       "  show_id     type                                             title  \\\n",
       "0      s1    Movie  Duck the Halls: A Mickey Mouse Christmas Special   \n",
       "1      s2    Movie                            Ernest Saves Christmas   \n",
       "2      s3    Movie                      Ice Age: A Mammoth Christmas   \n",
       "3      s4    Movie                        The Queen Family Singalong   \n",
       "4      s5  TV Show                             The Beatles: Get Back   \n",
       "\n",
       "                            director  \\\n",
       "0  Alonso Ramirez Ramos, Dave Wasson   \n",
       "1                        John Cherry   \n",
       "2                       Karen Disher   \n",
       "3                    Hamish Hamilton   \n",
       "4                                NaN   \n",
       "\n",
       "                                                cast        country  \\\n",
       "0  Chris Diamantopoulos, Tony Anselmo, Tress MacN...            NaN   \n",
       "1           Jim Varney, Noelle Parker, Douglas Seale            NaN   \n",
       "2  Raymond Albert Romano, John Leguizamo, Denis L...  United States   \n",
       "3  Darren Criss, Adam Lambert, Derek Hough, Alexa...            NaN   \n",
       "4  John Lennon, Paul McCartney, George Harrison, ...            NaN   \n",
       "\n",
       "  date_added  release_year rating  duration                      listed_in  \\\n",
       "0 2021-11-26          2016   TV-G    23 min              Animation, Family   \n",
       "1 2021-11-26          1988     PG    91 min                         Comedy   \n",
       "2 2021-11-26          2011   TV-G    23 min      Animation, Comedy, Family   \n",
       "3 2021-11-26          2021  TV-PG    41 min                        Musical   \n",
       "4 2021-11-25          2021    NaN  1 Season  Docuseries, Historical, Music   \n",
       "\n",
       "                                         description season duration_min  \n",
       "0   Join Mickey and the gang as they duck the halls!      0           23  \n",
       "1  Santa Claus passes his magic bag to a new St. ...      0           91  \n",
       "2          Sid the Sloth is on Santa's naughty list.      0           23  \n",
       "3               This is real life, not just fantasy!      0           41  \n",
       "4  A three-part documentary from Peter Jackson ca...      1            0  "
      ]
     },
     "execution_count": 7,
     "metadata": {},
     "output_type": "execute_result"
    }
   ],
   "source": [
    "disney_df.head()"
   ]
  },
  {
   "cell_type": "code",
   "execution_count": 8,
   "id": "1ac643a2",
   "metadata": {},
   "outputs": [
    {
     "name": "stdout",
     "output_type": "stream",
     "text": [
      "<class 'pandas.core.frame.DataFrame'>\n",
      "RangeIndex: 1450 entries, 0 to 1449\n",
      "Data columns (total 2 columns):\n",
      " #   Column        Non-Null Count  Dtype \n",
      "---  ------        --------------  ----- \n",
      " 0   season        1450 non-null   object\n",
      " 1   duration_min  1450 non-null   object\n",
      "dtypes: object(2)\n",
      "memory usage: 22.8+ KB\n"
     ]
    }
   ],
   "source": [
    "disney_df[['season','duration_min']].info()"
   ]
  },
  {
   "cell_type": "code",
   "execution_count": 9,
   "id": "4c170993",
   "metadata": {},
   "outputs": [],
   "source": [
    "# Transforming 'season','duration_min' into integer\n",
    "disney_df[\"duration_min\"] = disney_df[\"duration_min\"].astype(\"int64\")\n",
    "disney_df[\"season\"] = disney_df[\"season\"].astype(\"int64\")"
   ]
  },
  {
   "cell_type": "markdown",
   "id": "38277cb0",
   "metadata": {},
   "source": [
    "### Dealing with the missing data"
   ]
  },
  {
   "cell_type": "code",
   "execution_count": 10,
   "id": "533d1ec8",
   "metadata": {},
   "outputs": [],
   "source": [
    "# Replacments\n",
    "disney_df['country'] = disney_df['country'].fillna(disney_df['country'].mode()[0])\n",
    "disney_df['cast'].fillna('No Data',inplace  = True)\n",
    "disney_df['director'].fillna('No Data',inplace  = True)"
   ]
  },
  {
   "cell_type": "code",
   "execution_count": 11,
   "id": "79ca2ae2",
   "metadata": {},
   "outputs": [],
   "source": [
    "# Drops\n",
    "disney_df.dropna(inplace=True)\n",
    "disney_df.drop(['duration'], axis=1)\n",
    "# Drop Duplicates\n",
    "disney_df.drop_duplicates(inplace= True)"
   ]
  },
  {
   "cell_type": "code",
   "execution_count": 12,
   "id": "0688e799",
   "metadata": {},
   "outputs": [
    {
     "data": {
      "text/plain": [
       "show_id         0\n",
       "type            0\n",
       "title           0\n",
       "director        0\n",
       "cast            0\n",
       "country         0\n",
       "date_added      0\n",
       "release_year    0\n",
       "rating          0\n",
       "duration        0\n",
       "listed_in       0\n",
       "description     0\n",
       "season          0\n",
       "duration_min    0\n",
       "dtype: int64"
      ]
     },
     "execution_count": 12,
     "metadata": {},
     "output_type": "execute_result"
    }
   ],
   "source": [
    "# checking if there are still empty rows\n",
    "disney_df.isnull().sum()"
   ]
  },
  {
   "cell_type": "code",
   "execution_count": 13,
   "id": "97ca0972",
   "metadata": {},
   "outputs": [
    {
     "data": {
      "text/html": [
       "<div>\n",
       "<style scoped>\n",
       "    .dataframe tbody tr th:only-of-type {\n",
       "        vertical-align: middle;\n",
       "    }\n",
       "\n",
       "    .dataframe tbody tr th {\n",
       "        vertical-align: top;\n",
       "    }\n",
       "\n",
       "    .dataframe thead th {\n",
       "        text-align: right;\n",
       "    }\n",
       "</style>\n",
       "<table border=\"1\" class=\"dataframe\">\n",
       "  <thead>\n",
       "    <tr style=\"text-align: right;\">\n",
       "      <th></th>\n",
       "      <th>show_id</th>\n",
       "      <th>type</th>\n",
       "      <th>title</th>\n",
       "      <th>director</th>\n",
       "      <th>cast</th>\n",
       "      <th>country</th>\n",
       "      <th>date_added</th>\n",
       "      <th>release_year</th>\n",
       "      <th>rating</th>\n",
       "      <th>duration</th>\n",
       "      <th>listed_in</th>\n",
       "      <th>description</th>\n",
       "      <th>season</th>\n",
       "      <th>duration_min</th>\n",
       "    </tr>\n",
       "  </thead>\n",
       "  <tbody>\n",
       "    <tr>\n",
       "      <th>0</th>\n",
       "      <td>s1</td>\n",
       "      <td>Movie</td>\n",
       "      <td>Duck the Halls: A Mickey Mouse Christmas Special</td>\n",
       "      <td>Alonso Ramirez Ramos, Dave Wasson</td>\n",
       "      <td>Chris Diamantopoulos, Tony Anselmo, Tress MacN...</td>\n",
       "      <td>United States</td>\n",
       "      <td>2021-11-26</td>\n",
       "      <td>2016</td>\n",
       "      <td>TV-G</td>\n",
       "      <td>23 min</td>\n",
       "      <td>Animation, Family</td>\n",
       "      <td>Join Mickey and the gang as they duck the halls!</td>\n",
       "      <td>0</td>\n",
       "      <td>23</td>\n",
       "    </tr>\n",
       "    <tr>\n",
       "      <th>1</th>\n",
       "      <td>s2</td>\n",
       "      <td>Movie</td>\n",
       "      <td>Ernest Saves Christmas</td>\n",
       "      <td>John Cherry</td>\n",
       "      <td>Jim Varney, Noelle Parker, Douglas Seale</td>\n",
       "      <td>United States</td>\n",
       "      <td>2021-11-26</td>\n",
       "      <td>1988</td>\n",
       "      <td>PG</td>\n",
       "      <td>91 min</td>\n",
       "      <td>Comedy</td>\n",
       "      <td>Santa Claus passes his magic bag to a new St. ...</td>\n",
       "      <td>0</td>\n",
       "      <td>91</td>\n",
       "    </tr>\n",
       "    <tr>\n",
       "      <th>2</th>\n",
       "      <td>s3</td>\n",
       "      <td>Movie</td>\n",
       "      <td>Ice Age: A Mammoth Christmas</td>\n",
       "      <td>Karen Disher</td>\n",
       "      <td>Raymond Albert Romano, John Leguizamo, Denis L...</td>\n",
       "      <td>United States</td>\n",
       "      <td>2021-11-26</td>\n",
       "      <td>2011</td>\n",
       "      <td>TV-G</td>\n",
       "      <td>23 min</td>\n",
       "      <td>Animation, Comedy, Family</td>\n",
       "      <td>Sid the Sloth is on Santa's naughty list.</td>\n",
       "      <td>0</td>\n",
       "      <td>23</td>\n",
       "    </tr>\n",
       "    <tr>\n",
       "      <th>3</th>\n",
       "      <td>s4</td>\n",
       "      <td>Movie</td>\n",
       "      <td>The Queen Family Singalong</td>\n",
       "      <td>Hamish Hamilton</td>\n",
       "      <td>Darren Criss, Adam Lambert, Derek Hough, Alexa...</td>\n",
       "      <td>United States</td>\n",
       "      <td>2021-11-26</td>\n",
       "      <td>2021</td>\n",
       "      <td>TV-PG</td>\n",
       "      <td>41 min</td>\n",
       "      <td>Musical</td>\n",
       "      <td>This is real life, not just fantasy!</td>\n",
       "      <td>0</td>\n",
       "      <td>41</td>\n",
       "    </tr>\n",
       "    <tr>\n",
       "      <th>5</th>\n",
       "      <td>s6</td>\n",
       "      <td>Movie</td>\n",
       "      <td>Becoming Cousteau</td>\n",
       "      <td>Liz Garbus</td>\n",
       "      <td>Jacques Yves Cousteau, Vincent Cassel</td>\n",
       "      <td>United States</td>\n",
       "      <td>2021-11-24</td>\n",
       "      <td>2021</td>\n",
       "      <td>PG-13</td>\n",
       "      <td>94 min</td>\n",
       "      <td>Biographical, Documentary</td>\n",
       "      <td>An inside look at the legendary life of advent...</td>\n",
       "      <td>0</td>\n",
       "      <td>94</td>\n",
       "    </tr>\n",
       "  </tbody>\n",
       "</table>\n",
       "</div>"
      ],
      "text/plain": [
       "  show_id   type                                             title  \\\n",
       "0      s1  Movie  Duck the Halls: A Mickey Mouse Christmas Special   \n",
       "1      s2  Movie                            Ernest Saves Christmas   \n",
       "2      s3  Movie                      Ice Age: A Mammoth Christmas   \n",
       "3      s4  Movie                        The Queen Family Singalong   \n",
       "5      s6  Movie                                 Becoming Cousteau   \n",
       "\n",
       "                            director  \\\n",
       "0  Alonso Ramirez Ramos, Dave Wasson   \n",
       "1                        John Cherry   \n",
       "2                       Karen Disher   \n",
       "3                    Hamish Hamilton   \n",
       "5                         Liz Garbus   \n",
       "\n",
       "                                                cast        country  \\\n",
       "0  Chris Diamantopoulos, Tony Anselmo, Tress MacN...  United States   \n",
       "1           Jim Varney, Noelle Parker, Douglas Seale  United States   \n",
       "2  Raymond Albert Romano, John Leguizamo, Denis L...  United States   \n",
       "3  Darren Criss, Adam Lambert, Derek Hough, Alexa...  United States   \n",
       "5              Jacques Yves Cousteau, Vincent Cassel  United States   \n",
       "\n",
       "  date_added  release_year rating duration                  listed_in  \\\n",
       "0 2021-11-26          2016   TV-G   23 min          Animation, Family   \n",
       "1 2021-11-26          1988     PG   91 min                     Comedy   \n",
       "2 2021-11-26          2011   TV-G   23 min  Animation, Comedy, Family   \n",
       "3 2021-11-26          2021  TV-PG   41 min                    Musical   \n",
       "5 2021-11-24          2021  PG-13   94 min  Biographical, Documentary   \n",
       "\n",
       "                                         description  season  duration_min  \n",
       "0   Join Mickey and the gang as they duck the halls!       0            23  \n",
       "1  Santa Claus passes his magic bag to a new St. ...       0            91  \n",
       "2          Sid the Sloth is on Santa's naughty list.       0            23  \n",
       "3               This is real life, not just fantasy!       0            41  \n",
       "5  An inside look at the legendary life of advent...       0            94  "
      ]
     },
     "execution_count": 13,
     "metadata": {},
     "output_type": "execute_result"
    }
   ],
   "source": [
    "disney_df.head()"
   ]
  },
  {
   "cell_type": "code",
   "execution_count": 14,
   "id": "4174a5aa",
   "metadata": {},
   "outputs": [
    {
     "name": "stdout",
     "output_type": "stream",
     "text": [
      "<class 'pandas.core.frame.DataFrame'>\n",
      "Int64Index: 1444 entries, 0 to 1449\n",
      "Data columns (total 14 columns):\n",
      " #   Column        Non-Null Count  Dtype         \n",
      "---  ------        --------------  -----         \n",
      " 0   show_id       1444 non-null   object        \n",
      " 1   type          1444 non-null   object        \n",
      " 2   title         1444 non-null   object        \n",
      " 3   director      1444 non-null   object        \n",
      " 4   cast          1444 non-null   object        \n",
      " 5   country       1444 non-null   object        \n",
      " 6   date_added    1444 non-null   datetime64[ns]\n",
      " 7   release_year  1444 non-null   int64         \n",
      " 8   rating        1444 non-null   object        \n",
      " 9   duration      1444 non-null   object        \n",
      " 10  listed_in     1444 non-null   object        \n",
      " 11  description   1444 non-null   object        \n",
      " 12  season        1444 non-null   int64         \n",
      " 13  duration_min  1444 non-null   int64         \n",
      "dtypes: datetime64[ns](1), int64(3), object(10)\n",
      "memory usage: 169.2+ KB\n"
     ]
    }
   ],
   "source": [
    "disney_df.info()"
   ]
  },
  {
   "cell_type": "markdown",
   "id": "d9073686",
   "metadata": {},
   "source": [
    "###  Extracting month, month name and year from 'date_added' column"
   ]
  },
  {
   "cell_type": "code",
   "execution_count": 15,
   "id": "745ba3f5",
   "metadata": {},
   "outputs": [],
   "source": [
    "disney_df['month_added']=disney_df['date_added'].dt.month\n",
    "disney_df['month_name_added']=disney_df['date_added'].dt.month_name()\n",
    "disney_df['year_added'] = disney_df['date_added'].dt.year"
   ]
  },
  {
   "cell_type": "code",
   "execution_count": 16,
   "id": "95e647b2",
   "metadata": {},
   "outputs": [
    {
     "data": {
      "text/html": [
       "<div>\n",
       "<style scoped>\n",
       "    .dataframe tbody tr th:only-of-type {\n",
       "        vertical-align: middle;\n",
       "    }\n",
       "\n",
       "    .dataframe tbody tr th {\n",
       "        vertical-align: top;\n",
       "    }\n",
       "\n",
       "    .dataframe thead th {\n",
       "        text-align: right;\n",
       "    }\n",
       "</style>\n",
       "<table border=\"1\" class=\"dataframe\">\n",
       "  <thead>\n",
       "    <tr style=\"text-align: right;\">\n",
       "      <th></th>\n",
       "      <th>show_id</th>\n",
       "      <th>type</th>\n",
       "      <th>title</th>\n",
       "      <th>director</th>\n",
       "      <th>cast</th>\n",
       "      <th>country</th>\n",
       "      <th>date_added</th>\n",
       "      <th>release_year</th>\n",
       "      <th>rating</th>\n",
       "      <th>duration</th>\n",
       "      <th>listed_in</th>\n",
       "      <th>description</th>\n",
       "      <th>season</th>\n",
       "      <th>duration_min</th>\n",
       "      <th>month_added</th>\n",
       "      <th>month_name_added</th>\n",
       "      <th>year_added</th>\n",
       "    </tr>\n",
       "  </thead>\n",
       "  <tbody>\n",
       "    <tr>\n",
       "      <th>0</th>\n",
       "      <td>s1</td>\n",
       "      <td>Movie</td>\n",
       "      <td>Duck the Halls: A Mickey Mouse Christmas Special</td>\n",
       "      <td>Alonso Ramirez Ramos, Dave Wasson</td>\n",
       "      <td>Chris Diamantopoulos, Tony Anselmo, Tress MacN...</td>\n",
       "      <td>United States</td>\n",
       "      <td>2021-11-26</td>\n",
       "      <td>2016</td>\n",
       "      <td>TV-G</td>\n",
       "      <td>23 min</td>\n",
       "      <td>Animation, Family</td>\n",
       "      <td>Join Mickey and the gang as they duck the halls!</td>\n",
       "      <td>0</td>\n",
       "      <td>23</td>\n",
       "      <td>11</td>\n",
       "      <td>November</td>\n",
       "      <td>2021</td>\n",
       "    </tr>\n",
       "    <tr>\n",
       "      <th>1</th>\n",
       "      <td>s2</td>\n",
       "      <td>Movie</td>\n",
       "      <td>Ernest Saves Christmas</td>\n",
       "      <td>John Cherry</td>\n",
       "      <td>Jim Varney, Noelle Parker, Douglas Seale</td>\n",
       "      <td>United States</td>\n",
       "      <td>2021-11-26</td>\n",
       "      <td>1988</td>\n",
       "      <td>PG</td>\n",
       "      <td>91 min</td>\n",
       "      <td>Comedy</td>\n",
       "      <td>Santa Claus passes his magic bag to a new St. ...</td>\n",
       "      <td>0</td>\n",
       "      <td>91</td>\n",
       "      <td>11</td>\n",
       "      <td>November</td>\n",
       "      <td>2021</td>\n",
       "    </tr>\n",
       "    <tr>\n",
       "      <th>2</th>\n",
       "      <td>s3</td>\n",
       "      <td>Movie</td>\n",
       "      <td>Ice Age: A Mammoth Christmas</td>\n",
       "      <td>Karen Disher</td>\n",
       "      <td>Raymond Albert Romano, John Leguizamo, Denis L...</td>\n",
       "      <td>United States</td>\n",
       "      <td>2021-11-26</td>\n",
       "      <td>2011</td>\n",
       "      <td>TV-G</td>\n",
       "      <td>23 min</td>\n",
       "      <td>Animation, Comedy, Family</td>\n",
       "      <td>Sid the Sloth is on Santa's naughty list.</td>\n",
       "      <td>0</td>\n",
       "      <td>23</td>\n",
       "      <td>11</td>\n",
       "      <td>November</td>\n",
       "      <td>2021</td>\n",
       "    </tr>\n",
       "    <tr>\n",
       "      <th>3</th>\n",
       "      <td>s4</td>\n",
       "      <td>Movie</td>\n",
       "      <td>The Queen Family Singalong</td>\n",
       "      <td>Hamish Hamilton</td>\n",
       "      <td>Darren Criss, Adam Lambert, Derek Hough, Alexa...</td>\n",
       "      <td>United States</td>\n",
       "      <td>2021-11-26</td>\n",
       "      <td>2021</td>\n",
       "      <td>TV-PG</td>\n",
       "      <td>41 min</td>\n",
       "      <td>Musical</td>\n",
       "      <td>This is real life, not just fantasy!</td>\n",
       "      <td>0</td>\n",
       "      <td>41</td>\n",
       "      <td>11</td>\n",
       "      <td>November</td>\n",
       "      <td>2021</td>\n",
       "    </tr>\n",
       "    <tr>\n",
       "      <th>5</th>\n",
       "      <td>s6</td>\n",
       "      <td>Movie</td>\n",
       "      <td>Becoming Cousteau</td>\n",
       "      <td>Liz Garbus</td>\n",
       "      <td>Jacques Yves Cousteau, Vincent Cassel</td>\n",
       "      <td>United States</td>\n",
       "      <td>2021-11-24</td>\n",
       "      <td>2021</td>\n",
       "      <td>PG-13</td>\n",
       "      <td>94 min</td>\n",
       "      <td>Biographical, Documentary</td>\n",
       "      <td>An inside look at the legendary life of advent...</td>\n",
       "      <td>0</td>\n",
       "      <td>94</td>\n",
       "      <td>11</td>\n",
       "      <td>November</td>\n",
       "      <td>2021</td>\n",
       "    </tr>\n",
       "  </tbody>\n",
       "</table>\n",
       "</div>"
      ],
      "text/plain": [
       "  show_id   type                                             title  \\\n",
       "0      s1  Movie  Duck the Halls: A Mickey Mouse Christmas Special   \n",
       "1      s2  Movie                            Ernest Saves Christmas   \n",
       "2      s3  Movie                      Ice Age: A Mammoth Christmas   \n",
       "3      s4  Movie                        The Queen Family Singalong   \n",
       "5      s6  Movie                                 Becoming Cousteau   \n",
       "\n",
       "                            director  \\\n",
       "0  Alonso Ramirez Ramos, Dave Wasson   \n",
       "1                        John Cherry   \n",
       "2                       Karen Disher   \n",
       "3                    Hamish Hamilton   \n",
       "5                         Liz Garbus   \n",
       "\n",
       "                                                cast        country  \\\n",
       "0  Chris Diamantopoulos, Tony Anselmo, Tress MacN...  United States   \n",
       "1           Jim Varney, Noelle Parker, Douglas Seale  United States   \n",
       "2  Raymond Albert Romano, John Leguizamo, Denis L...  United States   \n",
       "3  Darren Criss, Adam Lambert, Derek Hough, Alexa...  United States   \n",
       "5              Jacques Yves Cousteau, Vincent Cassel  United States   \n",
       "\n",
       "  date_added  release_year rating duration                  listed_in  \\\n",
       "0 2021-11-26          2016   TV-G   23 min          Animation, Family   \n",
       "1 2021-11-26          1988     PG   91 min                     Comedy   \n",
       "2 2021-11-26          2011   TV-G   23 min  Animation, Comedy, Family   \n",
       "3 2021-11-26          2021  TV-PG   41 min                    Musical   \n",
       "5 2021-11-24          2021  PG-13   94 min  Biographical, Documentary   \n",
       "\n",
       "                                         description  season  duration_min  \\\n",
       "0   Join Mickey and the gang as they duck the halls!       0            23   \n",
       "1  Santa Claus passes his magic bag to a new St. ...       0            91   \n",
       "2          Sid the Sloth is on Santa's naughty list.       0            23   \n",
       "3               This is real life, not just fantasy!       0            41   \n",
       "5  An inside look at the legendary life of advent...       0            94   \n",
       "\n",
       "   month_added month_name_added  year_added  \n",
       "0           11         November        2021  \n",
       "1           11         November        2021  \n",
       "2           11         November        2021  \n",
       "3           11         November        2021  \n",
       "5           11         November        2021  "
      ]
     },
     "execution_count": 16,
     "metadata": {},
     "output_type": "execute_result"
    }
   ],
   "source": [
    "disney_df.head()"
   ]
  },
  {
   "cell_type": "markdown",
   "id": "53d83f2f",
   "metadata": {},
   "source": [
    "### Getting a dataframe for the movies and one for the TV shows"
   ]
  },
  {
   "cell_type": "code",
   "execution_count": 17,
   "id": "9973f68b",
   "metadata": {},
   "outputs": [
    {
     "data": {
      "text/html": [
       "<div>\n",
       "<style scoped>\n",
       "    .dataframe tbody tr th:only-of-type {\n",
       "        vertical-align: middle;\n",
       "    }\n",
       "\n",
       "    .dataframe tbody tr th {\n",
       "        vertical-align: top;\n",
       "    }\n",
       "\n",
       "    .dataframe thead th {\n",
       "        text-align: right;\n",
       "    }\n",
       "</style>\n",
       "<table border=\"1\" class=\"dataframe\">\n",
       "  <thead>\n",
       "    <tr style=\"text-align: right;\">\n",
       "      <th></th>\n",
       "      <th>show_id</th>\n",
       "      <th>type</th>\n",
       "      <th>title</th>\n",
       "      <th>director</th>\n",
       "      <th>cast</th>\n",
       "      <th>country</th>\n",
       "      <th>date_added</th>\n",
       "      <th>release_year</th>\n",
       "      <th>rating</th>\n",
       "      <th>duration</th>\n",
       "      <th>listed_in</th>\n",
       "      <th>description</th>\n",
       "      <th>season</th>\n",
       "      <th>duration_min</th>\n",
       "      <th>month_added</th>\n",
       "      <th>month_name_added</th>\n",
       "      <th>year_added</th>\n",
       "    </tr>\n",
       "  </thead>\n",
       "  <tbody>\n",
       "    <tr>\n",
       "      <th>0</th>\n",
       "      <td>s1</td>\n",
       "      <td>Movie</td>\n",
       "      <td>Duck the Halls: A Mickey Mouse Christmas Special</td>\n",
       "      <td>Alonso Ramirez Ramos, Dave Wasson</td>\n",
       "      <td>Chris Diamantopoulos, Tony Anselmo, Tress MacN...</td>\n",
       "      <td>United States</td>\n",
       "      <td>2021-11-26</td>\n",
       "      <td>2016</td>\n",
       "      <td>TV-G</td>\n",
       "      <td>23 min</td>\n",
       "      <td>Animation, Family</td>\n",
       "      <td>Join Mickey and the gang as they duck the halls!</td>\n",
       "      <td>0</td>\n",
       "      <td>23</td>\n",
       "      <td>11</td>\n",
       "      <td>November</td>\n",
       "      <td>2021</td>\n",
       "    </tr>\n",
       "    <tr>\n",
       "      <th>1</th>\n",
       "      <td>s2</td>\n",
       "      <td>Movie</td>\n",
       "      <td>Ernest Saves Christmas</td>\n",
       "      <td>John Cherry</td>\n",
       "      <td>Jim Varney, Noelle Parker, Douglas Seale</td>\n",
       "      <td>United States</td>\n",
       "      <td>2021-11-26</td>\n",
       "      <td>1988</td>\n",
       "      <td>PG</td>\n",
       "      <td>91 min</td>\n",
       "      <td>Comedy</td>\n",
       "      <td>Santa Claus passes his magic bag to a new St. ...</td>\n",
       "      <td>0</td>\n",
       "      <td>91</td>\n",
       "      <td>11</td>\n",
       "      <td>November</td>\n",
       "      <td>2021</td>\n",
       "    </tr>\n",
       "    <tr>\n",
       "      <th>2</th>\n",
       "      <td>s3</td>\n",
       "      <td>Movie</td>\n",
       "      <td>Ice Age: A Mammoth Christmas</td>\n",
       "      <td>Karen Disher</td>\n",
       "      <td>Raymond Albert Romano, John Leguizamo, Denis L...</td>\n",
       "      <td>United States</td>\n",
       "      <td>2021-11-26</td>\n",
       "      <td>2011</td>\n",
       "      <td>TV-G</td>\n",
       "      <td>23 min</td>\n",
       "      <td>Animation, Comedy, Family</td>\n",
       "      <td>Sid the Sloth is on Santa's naughty list.</td>\n",
       "      <td>0</td>\n",
       "      <td>23</td>\n",
       "      <td>11</td>\n",
       "      <td>November</td>\n",
       "      <td>2021</td>\n",
       "    </tr>\n",
       "    <tr>\n",
       "      <th>3</th>\n",
       "      <td>s4</td>\n",
       "      <td>Movie</td>\n",
       "      <td>The Queen Family Singalong</td>\n",
       "      <td>Hamish Hamilton</td>\n",
       "      <td>Darren Criss, Adam Lambert, Derek Hough, Alexa...</td>\n",
       "      <td>United States</td>\n",
       "      <td>2021-11-26</td>\n",
       "      <td>2021</td>\n",
       "      <td>TV-PG</td>\n",
       "      <td>41 min</td>\n",
       "      <td>Musical</td>\n",
       "      <td>This is real life, not just fantasy!</td>\n",
       "      <td>0</td>\n",
       "      <td>41</td>\n",
       "      <td>11</td>\n",
       "      <td>November</td>\n",
       "      <td>2021</td>\n",
       "    </tr>\n",
       "    <tr>\n",
       "      <th>5</th>\n",
       "      <td>s6</td>\n",
       "      <td>Movie</td>\n",
       "      <td>Becoming Cousteau</td>\n",
       "      <td>Liz Garbus</td>\n",
       "      <td>Jacques Yves Cousteau, Vincent Cassel</td>\n",
       "      <td>United States</td>\n",
       "      <td>2021-11-24</td>\n",
       "      <td>2021</td>\n",
       "      <td>PG-13</td>\n",
       "      <td>94 min</td>\n",
       "      <td>Biographical, Documentary</td>\n",
       "      <td>An inside look at the legendary life of advent...</td>\n",
       "      <td>0</td>\n",
       "      <td>94</td>\n",
       "      <td>11</td>\n",
       "      <td>November</td>\n",
       "      <td>2021</td>\n",
       "    </tr>\n",
       "  </tbody>\n",
       "</table>\n",
       "</div>"
      ],
      "text/plain": [
       "  show_id   type                                             title  \\\n",
       "0      s1  Movie  Duck the Halls: A Mickey Mouse Christmas Special   \n",
       "1      s2  Movie                            Ernest Saves Christmas   \n",
       "2      s3  Movie                      Ice Age: A Mammoth Christmas   \n",
       "3      s4  Movie                        The Queen Family Singalong   \n",
       "5      s6  Movie                                 Becoming Cousteau   \n",
       "\n",
       "                            director  \\\n",
       "0  Alonso Ramirez Ramos, Dave Wasson   \n",
       "1                        John Cherry   \n",
       "2                       Karen Disher   \n",
       "3                    Hamish Hamilton   \n",
       "5                         Liz Garbus   \n",
       "\n",
       "                                                cast        country  \\\n",
       "0  Chris Diamantopoulos, Tony Anselmo, Tress MacN...  United States   \n",
       "1           Jim Varney, Noelle Parker, Douglas Seale  United States   \n",
       "2  Raymond Albert Romano, John Leguizamo, Denis L...  United States   \n",
       "3  Darren Criss, Adam Lambert, Derek Hough, Alexa...  United States   \n",
       "5              Jacques Yves Cousteau, Vincent Cassel  United States   \n",
       "\n",
       "  date_added  release_year rating duration                  listed_in  \\\n",
       "0 2021-11-26          2016   TV-G   23 min          Animation, Family   \n",
       "1 2021-11-26          1988     PG   91 min                     Comedy   \n",
       "2 2021-11-26          2011   TV-G   23 min  Animation, Comedy, Family   \n",
       "3 2021-11-26          2021  TV-PG   41 min                    Musical   \n",
       "5 2021-11-24          2021  PG-13   94 min  Biographical, Documentary   \n",
       "\n",
       "                                         description  season  duration_min  \\\n",
       "0   Join Mickey and the gang as they duck the halls!       0            23   \n",
       "1  Santa Claus passes his magic bag to a new St. ...       0            91   \n",
       "2          Sid the Sloth is on Santa's naughty list.       0            23   \n",
       "3               This is real life, not just fantasy!       0            41   \n",
       "5  An inside look at the legendary life of advent...       0            94   \n",
       "\n",
       "   month_added month_name_added  year_added  \n",
       "0           11         November        2021  \n",
       "1           11         November        2021  \n",
       "2           11         November        2021  \n",
       "3           11         November        2021  \n",
       "5           11         November        2021  "
      ]
     },
     "execution_count": 17,
     "metadata": {},
     "output_type": "execute_result"
    }
   ],
   "source": [
    "disney_movies_df = disney_df[disney_df.type == 'Movie'].copy()\n",
    "disney_movies_df.head()"
   ]
  },
  {
   "cell_type": "code",
   "execution_count": 18,
   "id": "d9b063d8",
   "metadata": {},
   "outputs": [
    {
     "data": {
      "text/html": [
       "<div>\n",
       "<style scoped>\n",
       "    .dataframe tbody tr th:only-of-type {\n",
       "        vertical-align: middle;\n",
       "    }\n",
       "\n",
       "    .dataframe tbody tr th {\n",
       "        vertical-align: top;\n",
       "    }\n",
       "\n",
       "    .dataframe thead th {\n",
       "        text-align: right;\n",
       "    }\n",
       "</style>\n",
       "<table border=\"1\" class=\"dataframe\">\n",
       "  <thead>\n",
       "    <tr style=\"text-align: right;\">\n",
       "      <th></th>\n",
       "      <th>show_id</th>\n",
       "      <th>type</th>\n",
       "      <th>title</th>\n",
       "      <th>director</th>\n",
       "      <th>cast</th>\n",
       "      <th>country</th>\n",
       "      <th>date_added</th>\n",
       "      <th>release_year</th>\n",
       "      <th>rating</th>\n",
       "      <th>duration</th>\n",
       "      <th>listed_in</th>\n",
       "      <th>description</th>\n",
       "      <th>season</th>\n",
       "      <th>duration_min</th>\n",
       "      <th>month_added</th>\n",
       "      <th>month_name_added</th>\n",
       "      <th>year_added</th>\n",
       "    </tr>\n",
       "  </thead>\n",
       "  <tbody>\n",
       "    <tr>\n",
       "      <th>6</th>\n",
       "      <td>s7</td>\n",
       "      <td>TV Show</td>\n",
       "      <td>Hawkeye</td>\n",
       "      <td>No Data</td>\n",
       "      <td>Jeremy Renner, Hailee Steinfeld, Vera Farmiga,...</td>\n",
       "      <td>United States</td>\n",
       "      <td>2021-11-24</td>\n",
       "      <td>2021</td>\n",
       "      <td>TV-14</td>\n",
       "      <td>1 Season</td>\n",
       "      <td>Action-Adventure, Superhero</td>\n",
       "      <td>Clint Barton/Hawkeye must team up with skilled...</td>\n",
       "      <td>1</td>\n",
       "      <td>0</td>\n",
       "      <td>11</td>\n",
       "      <td>November</td>\n",
       "      <td>2021</td>\n",
       "    </tr>\n",
       "    <tr>\n",
       "      <th>7</th>\n",
       "      <td>s8</td>\n",
       "      <td>TV Show</td>\n",
       "      <td>Port Protection Alaska</td>\n",
       "      <td>No Data</td>\n",
       "      <td>Gary Muehlberger, Mary Miller, Curly Leach, Sa...</td>\n",
       "      <td>United States</td>\n",
       "      <td>2021-11-24</td>\n",
       "      <td>2015</td>\n",
       "      <td>TV-14</td>\n",
       "      <td>2 Seasons</td>\n",
       "      <td>Docuseries, Reality, Survival</td>\n",
       "      <td>Residents of Port Protection must combat volat...</td>\n",
       "      <td>2</td>\n",
       "      <td>0</td>\n",
       "      <td>11</td>\n",
       "      <td>November</td>\n",
       "      <td>2021</td>\n",
       "    </tr>\n",
       "    <tr>\n",
       "      <th>8</th>\n",
       "      <td>s9</td>\n",
       "      <td>TV Show</td>\n",
       "      <td>Secrets of the Zoo: Tampa</td>\n",
       "      <td>No Data</td>\n",
       "      <td>Dr. Ray Ball, Dr. Lauren Smith, Chris Massaro,...</td>\n",
       "      <td>United States</td>\n",
       "      <td>2021-11-24</td>\n",
       "      <td>2019</td>\n",
       "      <td>TV-PG</td>\n",
       "      <td>2 Seasons</td>\n",
       "      <td>Animals &amp; Nature, Docuseries, Family</td>\n",
       "      <td>A day in the life at ZooTampa is anything but ...</td>\n",
       "      <td>2</td>\n",
       "      <td>0</td>\n",
       "      <td>11</td>\n",
       "      <td>November</td>\n",
       "      <td>2021</td>\n",
       "    </tr>\n",
       "    <tr>\n",
       "      <th>13</th>\n",
       "      <td>s14</td>\n",
       "      <td>TV Show</td>\n",
       "      <td>Dr. Oakley, Yukon Vet</td>\n",
       "      <td>No Data</td>\n",
       "      <td>Dr. Michelle Oakley, Zachary Fine</td>\n",
       "      <td>United States</td>\n",
       "      <td>2021-11-17</td>\n",
       "      <td>2013</td>\n",
       "      <td>TV-PG</td>\n",
       "      <td>10 Seasons</td>\n",
       "      <td>Action-Adventure, Animals &amp; Nature, Docuseries</td>\n",
       "      <td>Meet Dr. Michelle Oakley, vet to pretty much e...</td>\n",
       "      <td>10</td>\n",
       "      <td>0</td>\n",
       "      <td>11</td>\n",
       "      <td>November</td>\n",
       "      <td>2021</td>\n",
       "    </tr>\n",
       "    <tr>\n",
       "      <th>17</th>\n",
       "      <td>s18</td>\n",
       "      <td>TV Show</td>\n",
       "      <td>Disney Fancy Nancy</td>\n",
       "      <td>No Data</td>\n",
       "      <td>Mia Jenness, Alyson Hannigan, Rob Riggle, Spen...</td>\n",
       "      <td>United States, Canada</td>\n",
       "      <td>2021-11-12</td>\n",
       "      <td>2018</td>\n",
       "      <td>TV-PG</td>\n",
       "      <td>3 Seasons</td>\n",
       "      <td>Animation, Kids</td>\n",
       "      <td>Nancy makes every day extraordinary!</td>\n",
       "      <td>3</td>\n",
       "      <td>0</td>\n",
       "      <td>11</td>\n",
       "      <td>November</td>\n",
       "      <td>2021</td>\n",
       "    </tr>\n",
       "  </tbody>\n",
       "</table>\n",
       "</div>"
      ],
      "text/plain": [
       "   show_id     type                      title director  \\\n",
       "6       s7  TV Show                    Hawkeye  No Data   \n",
       "7       s8  TV Show     Port Protection Alaska  No Data   \n",
       "8       s9  TV Show  Secrets of the Zoo: Tampa  No Data   \n",
       "13     s14  TV Show      Dr. Oakley, Yukon Vet  No Data   \n",
       "17     s18  TV Show         Disney Fancy Nancy  No Data   \n",
       "\n",
       "                                                 cast                country  \\\n",
       "6   Jeremy Renner, Hailee Steinfeld, Vera Farmiga,...          United States   \n",
       "7   Gary Muehlberger, Mary Miller, Curly Leach, Sa...          United States   \n",
       "8   Dr. Ray Ball, Dr. Lauren Smith, Chris Massaro,...          United States   \n",
       "13                  Dr. Michelle Oakley, Zachary Fine          United States   \n",
       "17  Mia Jenness, Alyson Hannigan, Rob Riggle, Spen...  United States, Canada   \n",
       "\n",
       "   date_added  release_year rating    duration  \\\n",
       "6  2021-11-24          2021  TV-14    1 Season   \n",
       "7  2021-11-24          2015  TV-14   2 Seasons   \n",
       "8  2021-11-24          2019  TV-PG   2 Seasons   \n",
       "13 2021-11-17          2013  TV-PG  10 Seasons   \n",
       "17 2021-11-12          2018  TV-PG   3 Seasons   \n",
       "\n",
       "                                         listed_in  \\\n",
       "6                      Action-Adventure, Superhero   \n",
       "7                    Docuseries, Reality, Survival   \n",
       "8             Animals & Nature, Docuseries, Family   \n",
       "13  Action-Adventure, Animals & Nature, Docuseries   \n",
       "17                                 Animation, Kids   \n",
       "\n",
       "                                          description  season  duration_min  \\\n",
       "6   Clint Barton/Hawkeye must team up with skilled...       1             0   \n",
       "7   Residents of Port Protection must combat volat...       2             0   \n",
       "8   A day in the life at ZooTampa is anything but ...       2             0   \n",
       "13  Meet Dr. Michelle Oakley, vet to pretty much e...      10             0   \n",
       "17               Nancy makes every day extraordinary!       3             0   \n",
       "\n",
       "    month_added month_name_added  year_added  \n",
       "6            11         November        2021  \n",
       "7            11         November        2021  \n",
       "8            11         November        2021  \n",
       "13           11         November        2021  \n",
       "17           11         November        2021  "
      ]
     },
     "execution_count": 18,
     "metadata": {},
     "output_type": "execute_result"
    }
   ],
   "source": [
    "disney_series_df = disney_df[disney_df.type == 'TV Show'].copy()\n",
    "disney_series_df.head()"
   ]
  },
  {
   "cell_type": "markdown",
   "id": "1c4fadbc",
   "metadata": {},
   "source": [
    "### Exploratory Analysis and Visualization"
   ]
  },
  {
   "cell_type": "code",
   "execution_count": 19,
   "id": "f0229588",
   "metadata": {},
   "outputs": [
    {
     "data": {
      "text/plain": [
       "Movie      1051\n",
       "TV Show     393\n",
       "Name: type, dtype: int64"
      ]
     },
     "execution_count": 19,
     "metadata": {},
     "output_type": "execute_result"
    }
   ],
   "source": [
    "disney_df.type.value_counts()"
   ]
  },
  {
   "cell_type": "code",
   "execution_count": 20,
   "id": "c5b17fc1",
   "metadata": {},
   "outputs": [
    {
     "data": {
      "image/png": "[encoded data removed]",
      "text/plain": [
       "<Figure size 864x432 with 1 Axes>"
      ]
     },
     "metadata": {},
     "output_type": "display_data"
    }
   ],
   "source": [
    "plt.figure(figsize=(12,6))\n",
    "plt.title(\"DISTRIBUTION OF MOVIES AND SERIES\")\n",
    "fig = plt.pie(disney_df.type.value_counts(), explode = None, labels= disney_df.type.value_counts().index,autopct='%1.1f%%', startangle=180);\n",
    "plt.legend()\n",
    "plt.show()"
   ]
  },
  {
   "cell_type": "markdown",
   "id": "fc56c635",
   "metadata": {},
   "source": [
    "This shows that Disney+ acquires more films rather than Tv series.The streaming platform has 72.6% of it's content as movies i.e 990 movies and remaining as series which is 373."
   ]
  },
  {
   "cell_type": "markdown",
   "id": "d5ebbd74",
   "metadata": {},
   "source": [
    "### DISTRIBUTION OF GENRE AMONG MOVIES IN DISNEY+"
   ]
  },
  {
   "cell_type": "code",
   "execution_count": 21,
   "id": "9fb7d4cf",
   "metadata": {},
   "outputs": [],
   "source": [
    "# analysing the genre of movies and selecting groups with more than 10 movies per genre\n",
    "movies_gen=disney_movies_df.groupby(\"listed_in\").filter(lambda x: len(x) > 10)"
   ]
  },
  {
   "cell_type": "code",
   "execution_count": 22,
   "id": "0527c84f",
   "metadata": {},
   "outputs": [
    {
     "data": {
      "image/png": "[encoded data removed]",
      "text/plain": [
       "<Figure size 864x864 with 1 Axes>"
      ]
     },
     "metadata": {},
     "output_type": "display_data"
    }
   ],
   "source": [
    "plt.figure(figsize=(12,12))\n",
    "plt.title('Disney Movies Genre Dist.')\n",
    "plt.pie(movies_gen.listed_in.value_counts(),labels =movies_gen.listed_in.value_counts().index,colors= ['teal','yellow'],autopct='%1.1f%%', startangle=180);    \n",
    "#plt.legend()\n",
    "plt.show()"
   ]
  },
  {
   "cell_type": "markdown",
   "id": "af491e98",
   "metadata": {},
   "source": [
    "From this pie chart its evident that most of the movies in disney+ is of \"Animation, Comedy, Family\" genre (115) followed by \"Action-Adventure,Animation, Comedy\" genre (42) followed very closely by \"Action-Adventure, Animation, Family\" (40) and \"Animals & Nature, Documentary, Family\" (40)."
   ]
  },
  {
   "cell_type": "markdown",
   "id": "0173a956",
   "metadata": {},
   "source": [
    "### DISTRIBUTION OF GENRE AMONG TV SERIES IN DISNEY+"
   ]
  },
  {
   "cell_type": "code",
   "execution_count": 23,
   "id": "6ddf22b8",
   "metadata": {},
   "outputs": [
    {
     "data": {
      "text/plain": [
       "Animals & Nature, Docuseries, Family    39\n",
       "Action-Adventure, Animation, Kids       39\n",
       "Action-Adventure, Animation, Comedy     33\n",
       "Animation, Kids                         15\n",
       "Action-Adventure, Animation, Fantasy    12\n",
       "                                        ..\n",
       "Family, Kids                             1\n",
       "Animals & Nature, Anthology              1\n",
       "Fantasy, Musical                         1\n",
       "Anthology, Science Fiction               1\n",
       "Animals & Nature, Docuseries, Travel     1\n",
       "Name: listed_in, Length: 134, dtype: int64"
      ]
     },
     "execution_count": 23,
     "metadata": {},
     "output_type": "execute_result"
    }
   ],
   "source": [
    "disney_series_df.listed_in.value_counts()"
   ]
  },
  {
   "cell_type": "code",
   "execution_count": 24,
   "id": "81d3acfd",
   "metadata": {},
   "outputs": [],
   "source": [
    "# analysing the genre of TV series and selecting groups with more than 7 TV series per genre\n",
    "series_gen=disney_series_df.groupby(\"listed_in\").filter(lambda x: len(x) > 7)"
   ]
  },
  {
   "cell_type": "code",
   "execution_count": 25,
   "id": "02ebc9a4",
   "metadata": {},
   "outputs": [
    {
     "data": {
      "image/png": "[encoded data removed]",
      "text/plain": [
       "<Figure size 864x864 with 1 Axes>"
      ]
     },
     "metadata": {},
     "output_type": "display_data"
    }
   ],
   "source": [
    "plt.figure(figsize=(12,12))\n",
    "plt.title('Disney TV Series Genre Dist.')\n",
    "plt.pie(series_gen.listed_in.value_counts(),\n",
    "       labels =series_gen.listed_in.value_counts().index ,\n",
    "       colors= ['gold','mediumaquamarine'],autopct='%1.1f%%', startangle=180);    \n",
    "#plt.legend()\n",
    "plt.show()"
   ]
  },
  {
   "cell_type": "markdown",
   "id": "7310fda7",
   "metadata": {},
   "source": [
    "Action-Adventure, Animation, Kids (39) is the top genre for tv series in disney+ followed by Animals & Nature, Docuseries, Family (38) and Action-Adventure, Animation, Comedy (33)"
   ]
  },
  {
   "cell_type": "markdown",
   "id": "ee32758c",
   "metadata": {},
   "source": [
    "### FREQUENCY OF RENEWAL OF TV SERIES"
   ]
  },
  {
   "cell_type": "code",
   "execution_count": 26,
   "id": "688fb31f",
   "metadata": {},
   "outputs": [
    {
     "data": {
      "text/plain": [
       "2     81\n",
       "3     43\n",
       "4     24\n",
       "5     11\n",
       "7      5\n",
       "6      3\n",
       "10     2\n",
       "9      2\n",
       "8      2\n",
       "32     1\n",
       "16     1\n",
       "19     1\n",
       "Name: season, dtype: int64"
      ]
     },
     "execution_count": 26,
     "metadata": {},
     "output_type": "execute_result"
    }
   ],
   "source": [
    "renewal = disney_series_df[disney_series_df.season >1]\n",
    "renewal.season.value_counts()"
   ]
  },
  {
   "cell_type": "code",
   "execution_count": 27,
   "id": "cb85375b",
   "metadata": {},
   "outputs": [
    {
     "data": {
      "text/plain": [
       "<BarContainer object of 12 artists>"
      ]
     },
     "execution_count": 27,
     "metadata": {},
     "output_type": "execute_result"
    },
    {
     "data": {
      "image/png": "[encoded data removed]",
      "text/plain": [
       "<Figure size 864x432 with 1 Axes>"
      ]
     },
     "metadata": {
      "needs_background": "light"
     },
     "output_type": "display_data"
    }
   ],
   "source": [
    "plt.figure(figsize = (12,6))\n",
    "plt.title(\"FREQUENCY OF RENEWAL OF TV SERIES\")\n",
    "plt.bar(renewal.season.value_counts().index,\n",
    "        renewal.season.value_counts())"
   ]
  },
  {
   "cell_type": "markdown",
   "id": "10085db3",
   "metadata": {},
   "source": [
    "###  CONTENT ADDED OVER THE YEARS"
   ]
  },
  {
   "cell_type": "code",
   "execution_count": 28,
   "id": "aeb9d89b",
   "metadata": {},
   "outputs": [],
   "source": [
    "disney_df['year'] = pd.DatetimeIndex(disney_df['date_added']).year"
   ]
  },
  {
   "cell_type": "code",
   "execution_count": 29,
   "id": "abdd49c3",
   "metadata": {},
   "outputs": [
    {
     "data": {
      "text/plain": [
       "2019    765\n",
       "2020    352\n",
       "2021    327\n",
       "Name: year, dtype: int64"
      ]
     },
     "execution_count": 29,
     "metadata": {},
     "output_type": "execute_result"
    }
   ],
   "source": [
    "disney_df.year.value_counts()"
   ]
  },
  {
   "cell_type": "code",
   "execution_count": 30,
   "id": "879ed37e",
   "metadata": {},
   "outputs": [
    {
     "data": {
      "image/png": "[encoded data removed]",
      "text/plain": [
       "<Figure size 864x432 with 1 Axes>"
      ]
     },
     "metadata": {
      "needs_background": "light"
     },
     "output_type": "display_data"
    }
   ],
   "source": [
    "plt.figure(figsize=(12,6))\n",
    "plt.plot(disney_df.year.value_counts(),c=\"r\");"
   ]
  },
  {
   "cell_type": "markdown",
   "id": "5f49973d",
   "metadata": {},
   "source": [
    "From this line chart it's clear that due to covid ,shooting of content has been very difficult which led to the steep fall in no. of titles delivered by disney+."
   ]
  },
  {
   "cell_type": "markdown",
   "id": "69328344",
   "metadata": {},
   "source": [
    "### Country with the highest no. of titles"
   ]
  },
  {
   "cell_type": "code",
   "execution_count": 31,
   "id": "2d31a824",
   "metadata": {},
   "outputs": [
    {
     "data": {
      "text/plain": [
       "<BarContainer object of 2 artists>"
      ]
     },
     "execution_count": 31,
     "metadata": {},
     "output_type": "execute_result"
    },
    {
     "data": {
      "image/png": "[encoded data removed]",
      "text/plain": [
       "<Figure size 432x288 with 1 Axes>"
      ]
     },
     "metadata": {
      "needs_background": "light"
     },
     "output_type": "display_data"
    }
   ],
   "source": [
    "highest_titles =disney_series_df.groupby(\"country\").filter(lambda x: len(x) > 10)\n",
    "plt.bar(highest_titles.country.value_counts().index,\n",
    "        highest_titles.country.value_counts())"
   ]
  },
  {
   "cell_type": "markdown",
   "id": "ce889a1c",
   "metadata": {},
   "source": [
    "### Rating of the most produced tv series"
   ]
  },
  {
   "cell_type": "code",
   "execution_count": 32,
   "id": "6d39ce63",
   "metadata": {},
   "outputs": [
    {
     "data": {
      "text/plain": [
       "<BarContainer object of 5 artists>"
      ]
     },
     "execution_count": 32,
     "metadata": {},
     "output_type": "execute_result"
    },
    {
     "data": {
      "image/png": "[encoded data removed]",
      "text/plain": [
       "<Figure size 432x288 with 1 Axes>"
      ]
     },
     "metadata": {
      "needs_background": "light"
     },
     "output_type": "display_data"
    }
   ],
   "source": [
    "hr = disney_series_df.groupby(\"rating\").filter(lambda x: len(x) > 10)\n",
    "hr.rating.value_counts()\n",
    "plt.bar(hr.rating.value_counts().index,hr.rating.value_counts())"
   ]
  },
  {
   "cell_type": "markdown",
   "id": "c28aac44",
   "metadata": {},
   "source": [
    "### Rating of the most produced movies"
   ]
  },
  {
   "cell_type": "code",
   "execution_count": 37,
   "id": "69bf6013",
   "metadata": {},
   "outputs": [
    {
     "data": {
      "text/plain": [
       "<BarContainer object of 7 artists>"
      ]
     },
     "execution_count": 37,
     "metadata": {},
     "output_type": "execute_result"
    },
    {
     "data": {
      "image/png": "[encoded data removed]",
      "text/plain": [
       "<Figure size 432x288 with 1 Axes>"
      ]
     },
     "metadata": {
      "needs_background": "light"
     },
     "output_type": "display_data"
    }
   ],
   "source": [
    "mr = disney_movies_df.groupby(\"rating\").filter(lambda x: len(x) > 10)\n",
    "mr.rating.value_counts()\n",
    "plt.bar(mr.rating.value_counts().index,mr.rating.value_counts())"
   ]
  },
  {
   "cell_type": "markdown",
   "id": "0428d0af",
   "metadata": {},
   "source": [
    "### Top 10 directors on Disney+ with the most releases"
   ]
  },
  {
   "cell_type": "code",
   "execution_count": 33,
   "id": "fe48060b",
   "metadata": {},
   "outputs": [
    {
     "data": {
      "text/plain": [
       "Jack Hannah         17\n",
       "John Lasseter       16\n",
       "Paul Hoen           16\n",
       "Robert Stevenson    12\n",
       "Charles Nichols     12\n",
       "                    ..\n",
       "Simon Wells          1\n",
       "David Lynch          1\n",
       "Don Bluth            1\n",
       "Milt Schaffer        1\n",
       "Mark Waring          1\n",
       "Name: director, Length: 609, dtype: int64"
      ]
     },
     "execution_count": 33,
     "metadata": {},
     "output_type": "execute_result"
    }
   ],
   "source": [
    "disney_df.director[disney_df.director !=\"No Data\"].value_counts()"
   ]
  },
  {
   "cell_type": "code",
   "execution_count": 34,
   "id": "d72de535",
   "metadata": {},
   "outputs": [
    {
     "data": {
      "image/png": "[encoded data removed]",
      "text/plain": [
       "<Figure size 1440x432 with 1 Axes>"
      ]
     },
     "metadata": {
      "needs_background": "light"
     },
     "output_type": "display_data"
    }
   ],
   "source": [
    "plt.figure(figsize=(20,6))\n",
    "plt.bar(disney_df.director[disney_df.director !=\"No Data\"].value_counts().index[1:11],\n",
    "        disney_df.director[disney_df.director !=\"No Data\"].value_counts().values[1:11]);"
   ]
  },
  {
   "cell_type": "markdown",
   "id": "532c3cca",
   "metadata": {},
   "source": [
    "### Top 5 actors on Disney+ based on number of titles"
   ]
  },
  {
   "cell_type": "code",
   "execution_count": 35,
   "id": "39c636df",
   "metadata": {},
   "outputs": [
    {
     "data": {
      "text/plain": [
       "Winston Hibler                                                                                    10\n",
       "Dan Nachtrab                                                                                       7\n",
       "Larry the Cable Guy , Keith Ferguson                                                               6\n",
       "Russell Boulter                                                                                    6\n",
       "Walt Disney                                                                                        4\n",
       "                                                                                                  ..\n",
       "Tony Goldwyn, Minnie Driver, Glenn Close, Alex Linz, Rosie O'Donnell, Brian Blessed                1\n",
       "Robert Downey Jr., Chris Hemsworth, Mark Ruffalo, Chris Evans, Scarlett Johansson, Don Cheadle     1\n",
       "Walt Disney, Paul Frees, Dr. Ernst Stuhlinger, Dr. Wernher von Braun, Dr. E.C. Slipher             1\n",
       "Walt Disney, Dick Tufeld, Ward Kimball, Willy Ley, Dr. Heinz Haber, Dr. Wernher von Braun          1\n",
       "Charlie Tahan                                                                                      1\n",
       "Name: cast, Length: 1188, dtype: int64"
      ]
     },
     "execution_count": 35,
     "metadata": {},
     "output_type": "execute_result"
    }
   ],
   "source": [
    "disney_df.cast[disney_df.cast !=\"No Data\"].value_counts()"
   ]
  },
  {
   "cell_type": "code",
   "execution_count": 36,
   "id": "099c6f11",
   "metadata": {},
   "outputs": [
    {
     "data": {
      "image/png": "[encoded data removed]",
      "text/plain": [
       "<Figure size 1440x432 with 1 Axes>"
      ]
     },
     "metadata": {
      "needs_background": "light"
     },
     "output_type": "display_data"
    }
   ],
   "source": [
    "plt.figure(figsize=(20,6))\n",
    "plt.bar(disney_df.cast[disney_df.cast !=\"No Data\"].value_counts().index[1:6],\n",
    "        disney_df.cast[disney_df.cast !=\"No Data\"].value_counts().values[1:6]);"
   ]
  },
  {
   "cell_type": "code",
   "execution_count": null,
   "id": "abad8ce9",
   "metadata": {},
   "outputs": [],
   "source": []
  },
  {
   "cell_type": "code",
   "execution_count": null,
   "id": "b3a30721",
   "metadata": {},
   "outputs": [],
   "source": []
  },
  {
   "cell_type": "code",
   "execution_count": null,
   "id": "8d2e6ea7",
   "metadata": {},
   "outputs": [],
   "source": []
  },
  {
   "cell_type": "code",
   "execution_count": null,
   "id": "ea233be8",
   "metadata": {},
   "outputs": [],
   "source": []
  },
  {
   "cell_type": "code",
   "execution_count": null,
   "id": "7f6141b1",
   "metadata": {},
   "outputs": [],
   "source": []
  },
  {
   "cell_type": "code",
   "execution_count": null,
   "id": "75447c21",
   "metadata": {},
   "outputs": [],
   "source": []
  },
  {
   "cell_type": "code",
   "execution_count": null,
   "id": "10455267",
   "metadata": {},
   "outputs": [],
   "source": []
  },
  {
   "cell_type": "code",
   "execution_count": null,
   "id": "5ddedaf6",
   "metadata": {},
   "outputs": [],
   "source": []
  }
 ],
 "metadata": {
  "kernelspec": {
   "display_name": "Python 3 (ipykernel)",
   "language": "python",
   "name": "python3"
  },
  "language_info": {
   "codemirror_mode": {
    "name": "ipython",
    "version": 3
   },
   "file_extension": ".py",
   "mimetype": "text/x-python",
   "name": "python",
   "nbconvert_exporter": "python",
   "pygments_lexer": "ipython3",
   "version": "3.9.7"
  }
 },
 "nbformat": 4,
 "nbformat_minor": 5
}
